{
 "cells": [
  {
   "cell_type": "code",
   "execution_count": 1,
   "id": "ed82cf22-c7e9-49f2-9f98-3028bcf0fb20",
   "metadata": {
    "collapsed": false,
    "jupyter": {
     "outputs_hidden": false
    }
   },
   "outputs": [],
   "source": [
    "import numpy as np\n",
    "import matplotlib.pyplot as plt\n",
    "from pandas import Series, DataFrame\n",
    "import pandas as pd\n",
    "#pd.set_printoptions(notebook_repr_html=False)"
   ]
  },
  {
   "cell_type": "code",
   "execution_count": 4,
   "id": "98b97772-c195-40b9-81b2-7d469c0feb42",
   "metadata": {},
   "outputs": [
    {
     "name": "stdout",
     "output_type": "stream",
     "text": [
      "\u001b[1;31mType:\u001b[0m        module\n",
      "\u001b[1;31mString form:\u001b[0m <module 'numpy.random' from 'c:\\\\Users\\\\sampe\\\\anaconda3\\\\lib\\\\site-packages\\\\numpy\\\\random\\\\__init__.py'>\n",
      "\u001b[1;31mFile:\u001b[0m        c:\\users\\sampe\\anaconda3\\lib\\site-packages\\numpy\\random\\__init__.py\n",
      "\u001b[1;31mSource:\u001b[0m     \n",
      "\u001b[1;34m\"\"\"\n",
      "========================\n",
      "Random Number Generation\n",
      "========================\n",
      "\n",
      "Use ``default_rng()`` to create a `Generator` and call its methods.\n",
      "\n",
      "=============== =========================================================\n",
      "Generator\n",
      "--------------- ---------------------------------------------------------\n",
      "Generator       Class implementing all of the random number distributions\n",
      "default_rng     Default constructor for ``Generator``\n",
      "=============== =========================================================\n",
      "\n",
      "============================================= ===\n",
      "BitGenerator Streams that work with Generator\n",
      "--------------------------------------------- ---\n",
      "MT19937\n",
      "PCG64\n",
      "PCG64DXSM\n",
      "Philox\n",
      "SFC64\n",
      "============================================= ===\n",
      "\n",
      "============================================= ===\n",
      "Getting entropy to initialize a BitGenerator\n",
      "--------------------------------------------- ---\n",
      "SeedSequence\n",
      "============================================= ===\n",
      "\n",
      "\n",
      "Legacy\n",
      "------\n",
      "\n",
      "For backwards compatibility with previous versions of numpy before 1.17, the\n",
      "various aliases to the global `RandomState` methods are left alone and do not\n",
      "use the new `Generator` API.\n",
      "\n",
      "==================== =========================================================\n",
      "Utility functions\n",
      "-------------------- ---------------------------------------------------------\n",
      "random               Uniformly distributed floats over ``[0, 1)``\n",
      "bytes                Uniformly distributed random bytes.\n",
      "permutation          Randomly permute a sequence / generate a random sequence.\n",
      "shuffle              Randomly permute a sequence in place.\n",
      "choice               Random sample from 1-D array.\n",
      "==================== =========================================================\n",
      "\n",
      "==================== =========================================================\n",
      "Compatibility\n",
      "functions - removed\n",
      "in the new API\n",
      "-------------------- ---------------------------------------------------------\n",
      "rand                 Uniformly distributed values.\n",
      "randn                Normally distributed values.\n",
      "ranf                 Uniformly distributed floating point numbers.\n",
      "random_integers      Uniformly distributed integers in a given range.\n",
      "                     (deprecated, use ``integers(..., closed=True)`` instead)\n",
      "random_sample        Alias for `random_sample`\n",
      "randint              Uniformly distributed integers in a given range\n",
      "seed                 Seed the legacy random number generator.\n",
      "==================== =========================================================\n",
      "\n",
      "==================== =========================================================\n",
      "Univariate\n",
      "distributions\n",
      "-------------------- ---------------------------------------------------------\n",
      "beta                 Beta distribution over ``[0, 1]``.\n",
      "binomial             Binomial distribution.\n",
      "chisquare            :math:`\\\\chi^2` distribution.\n",
      "exponential          Exponential distribution.\n",
      "f                    F (Fisher-Snedecor) distribution.\n",
      "gamma                Gamma distribution.\n",
      "geometric            Geometric distribution.\n",
      "gumbel               Gumbel distribution.\n",
      "hypergeometric       Hypergeometric distribution.\n",
      "laplace              Laplace distribution.\n",
      "logistic             Logistic distribution.\n",
      "lognormal            Log-normal distribution.\n",
      "logseries            Logarithmic series distribution.\n",
      "negative_binomial    Negative binomial distribution.\n",
      "noncentral_chisquare Non-central chi-square distribution.\n",
      "noncentral_f         Non-central F distribution.\n",
      "normal               Normal / Gaussian distribution.\n",
      "pareto               Pareto distribution.\n",
      "poisson              Poisson distribution.\n",
      "power                Power distribution.\n",
      "rayleigh             Rayleigh distribution.\n",
      "triangular           Triangular distribution.\n",
      "uniform              Uniform distribution.\n",
      "vonmises             Von Mises circular distribution.\n",
      "wald                 Wald (inverse Gaussian) distribution.\n",
      "weibull              Weibull distribution.\n",
      "zipf                 Zipf's distribution over ranked data.\n",
      "==================== =========================================================\n",
      "\n",
      "==================== ==========================================================\n",
      "Multivariate\n",
      "distributions\n",
      "-------------------- ----------------------------------------------------------\n",
      "dirichlet            Multivariate generalization of Beta distribution.\n",
      "multinomial          Multivariate generalization of the binomial distribution.\n",
      "multivariate_normal  Multivariate generalization of the normal distribution.\n",
      "==================== ==========================================================\n",
      "\n",
      "==================== =========================================================\n",
      "Standard\n",
      "distributions\n",
      "-------------------- ---------------------------------------------------------\n",
      "standard_cauchy      Standard Cauchy-Lorentz distribution.\n",
      "standard_exponential Standard exponential distribution.\n",
      "standard_gamma       Standard Gamma distribution.\n",
      "standard_normal      Standard normal distribution.\n",
      "standard_t           Standard Student's t-distribution.\n",
      "==================== =========================================================\n",
      "\n",
      "==================== =========================================================\n",
      "Internal functions\n",
      "-------------------- ---------------------------------------------------------\n",
      "get_state            Get tuple representing internal state of generator.\n",
      "set_state            Set state of generator.\n",
      "==================== =========================================================\n",
      "\n",
      "\n",
      "\"\"\"\u001b[0m\u001b[1;33m\n",
      "\u001b[0m\u001b[0m__all__\u001b[0m \u001b[1;33m=\u001b[0m \u001b[1;33m[\u001b[0m\u001b[1;33m\n",
      "\u001b[0m    \u001b[1;34m'beta'\u001b[0m\u001b[1;33m,\u001b[0m\u001b[1;33m\n",
      "\u001b[0m    \u001b[1;34m'binomial'\u001b[0m\u001b[1;33m,\u001b[0m\u001b[1;33m\n",
      "\u001b[0m    \u001b[1;34m'bytes'\u001b[0m\u001b[1;33m,\u001b[0m\u001b[1;33m\n",
      "\u001b[0m    \u001b[1;34m'chisquare'\u001b[0m\u001b[1;33m,\u001b[0m\u001b[1;33m\n",
      "\u001b[0m    \u001b[1;34m'choice'\u001b[0m\u001b[1;33m,\u001b[0m\u001b[1;33m\n",
      "\u001b[0m    \u001b[1;34m'dirichlet'\u001b[0m\u001b[1;33m,\u001b[0m\u001b[1;33m\n",
      "\u001b[0m    \u001b[1;34m'exponential'\u001b[0m\u001b[1;33m,\u001b[0m\u001b[1;33m\n",
      "\u001b[0m    \u001b[1;34m'f'\u001b[0m\u001b[1;33m,\u001b[0m\u001b[1;33m\n",
      "\u001b[0m    \u001b[1;34m'gamma'\u001b[0m\u001b[1;33m,\u001b[0m\u001b[1;33m\n",
      "\u001b[0m    \u001b[1;34m'geometric'\u001b[0m\u001b[1;33m,\u001b[0m\u001b[1;33m\n",
      "\u001b[0m    \u001b[1;34m'get_state'\u001b[0m\u001b[1;33m,\u001b[0m\u001b[1;33m\n",
      "\u001b[0m    \u001b[1;34m'gumbel'\u001b[0m\u001b[1;33m,\u001b[0m\u001b[1;33m\n",
      "\u001b[0m    \u001b[1;34m'hypergeometric'\u001b[0m\u001b[1;33m,\u001b[0m\u001b[1;33m\n",
      "\u001b[0m    \u001b[1;34m'laplace'\u001b[0m\u001b[1;33m,\u001b[0m\u001b[1;33m\n",
      "\u001b[0m    \u001b[1;34m'logistic'\u001b[0m\u001b[1;33m,\u001b[0m\u001b[1;33m\n",
      "\u001b[0m    \u001b[1;34m'lognormal'\u001b[0m\u001b[1;33m,\u001b[0m\u001b[1;33m\n",
      "\u001b[0m    \u001b[1;34m'logseries'\u001b[0m\u001b[1;33m,\u001b[0m\u001b[1;33m\n",
      "\u001b[0m    \u001b[1;34m'multinomial'\u001b[0m\u001b[1;33m,\u001b[0m\u001b[1;33m\n",
      "\u001b[0m    \u001b[1;34m'multivariate_normal'\u001b[0m\u001b[1;33m,\u001b[0m\u001b[1;33m\n",
      "\u001b[0m    \u001b[1;34m'negative_binomial'\u001b[0m\u001b[1;33m,\u001b[0m\u001b[1;33m\n",
      "\u001b[0m    \u001b[1;34m'noncentral_chisquare'\u001b[0m\u001b[1;33m,\u001b[0m\u001b[1;33m\n",
      "\u001b[0m    \u001b[1;34m'noncentral_f'\u001b[0m\u001b[1;33m,\u001b[0m\u001b[1;33m\n",
      "\u001b[0m    \u001b[1;34m'normal'\u001b[0m\u001b[1;33m,\u001b[0m\u001b[1;33m\n",
      "\u001b[0m    \u001b[1;34m'pareto'\u001b[0m\u001b[1;33m,\u001b[0m\u001b[1;33m\n",
      "\u001b[0m    \u001b[1;34m'permutation'\u001b[0m\u001b[1;33m,\u001b[0m\u001b[1;33m\n",
      "\u001b[0m    \u001b[1;34m'poisson'\u001b[0m\u001b[1;33m,\u001b[0m\u001b[1;33m\n",
      "\u001b[0m    \u001b[1;34m'power'\u001b[0m\u001b[1;33m,\u001b[0m\u001b[1;33m\n",
      "\u001b[0m    \u001b[1;34m'rand'\u001b[0m\u001b[1;33m,\u001b[0m\u001b[1;33m\n",
      "\u001b[0m    \u001b[1;34m'randint'\u001b[0m\u001b[1;33m,\u001b[0m\u001b[1;33m\n",
      "\u001b[0m    \u001b[1;34m'randn'\u001b[0m\u001b[1;33m,\u001b[0m\u001b[1;33m\n",
      "\u001b[0m    \u001b[1;34m'random'\u001b[0m\u001b[1;33m,\u001b[0m\u001b[1;33m\n",
      "\u001b[0m    \u001b[1;34m'random_integers'\u001b[0m\u001b[1;33m,\u001b[0m\u001b[1;33m\n",
      "\u001b[0m    \u001b[1;34m'random_sample'\u001b[0m\u001b[1;33m,\u001b[0m\u001b[1;33m\n",
      "\u001b[0m    \u001b[1;34m'ranf'\u001b[0m\u001b[1;33m,\u001b[0m\u001b[1;33m\n",
      "\u001b[0m    \u001b[1;34m'rayleigh'\u001b[0m\u001b[1;33m,\u001b[0m\u001b[1;33m\n",
      "\u001b[0m    \u001b[1;34m'sample'\u001b[0m\u001b[1;33m,\u001b[0m\u001b[1;33m\n",
      "\u001b[0m    \u001b[1;34m'seed'\u001b[0m\u001b[1;33m,\u001b[0m\u001b[1;33m\n",
      "\u001b[0m    \u001b[1;34m'set_state'\u001b[0m\u001b[1;33m,\u001b[0m\u001b[1;33m\n",
      "\u001b[0m    \u001b[1;34m'shuffle'\u001b[0m\u001b[1;33m,\u001b[0m\u001b[1;33m\n",
      "\u001b[0m    \u001b[1;34m'standard_cauchy'\u001b[0m\u001b[1;33m,\u001b[0m\u001b[1;33m\n",
      "\u001b[0m    \u001b[1;34m'standard_exponential'\u001b[0m\u001b[1;33m,\u001b[0m\u001b[1;33m\n",
      "\u001b[0m    \u001b[1;34m'standard_gamma'\u001b[0m\u001b[1;33m,\u001b[0m\u001b[1;33m\n",
      "\u001b[0m    \u001b[1;34m'standard_normal'\u001b[0m\u001b[1;33m,\u001b[0m\u001b[1;33m\n",
      "\u001b[0m    \u001b[1;34m'standard_t'\u001b[0m\u001b[1;33m,\u001b[0m\u001b[1;33m\n",
      "\u001b[0m    \u001b[1;34m'triangular'\u001b[0m\u001b[1;33m,\u001b[0m\u001b[1;33m\n",
      "\u001b[0m    \u001b[1;34m'uniform'\u001b[0m\u001b[1;33m,\u001b[0m\u001b[1;33m\n",
      "\u001b[0m    \u001b[1;34m'vonmises'\u001b[0m\u001b[1;33m,\u001b[0m\u001b[1;33m\n",
      "\u001b[0m    \u001b[1;34m'wald'\u001b[0m\u001b[1;33m,\u001b[0m\u001b[1;33m\n",
      "\u001b[0m    \u001b[1;34m'weibull'\u001b[0m\u001b[1;33m,\u001b[0m\u001b[1;33m\n",
      "\u001b[0m    \u001b[1;34m'zipf'\u001b[0m\u001b[1;33m,\u001b[0m\u001b[1;33m\n",
      "\u001b[0m\u001b[1;33m]\u001b[0m\u001b[1;33m\n",
      "\u001b[0m\u001b[1;33m\n",
      "\u001b[0m\u001b[1;31m# add these for module-freeze analysis (like PyInstaller)\u001b[0m\u001b[1;33m\n",
      "\u001b[0m\u001b[1;32mfrom\u001b[0m \u001b[1;33m.\u001b[0m \u001b[1;32mimport\u001b[0m \u001b[0m_pickle\u001b[0m\u001b[1;33m\n",
      "\u001b[0m\u001b[1;32mfrom\u001b[0m \u001b[1;33m.\u001b[0m \u001b[1;32mimport\u001b[0m \u001b[0m_common\u001b[0m\u001b[1;33m\n",
      "\u001b[0m\u001b[1;32mfrom\u001b[0m \u001b[1;33m.\u001b[0m \u001b[1;32mimport\u001b[0m \u001b[0m_bounded_integers\u001b[0m\u001b[1;33m\n",
      "\u001b[0m\u001b[1;33m\n",
      "\u001b[0m\u001b[1;32mfrom\u001b[0m \u001b[1;33m.\u001b[0m\u001b[0m_generator\u001b[0m \u001b[1;32mimport\u001b[0m \u001b[0mGenerator\u001b[0m\u001b[1;33m,\u001b[0m \u001b[0mdefault_rng\u001b[0m\u001b[1;33m\n",
      "\u001b[0m\u001b[1;32mfrom\u001b[0m \u001b[1;33m.\u001b[0m\u001b[0mbit_generator\u001b[0m \u001b[1;32mimport\u001b[0m \u001b[0mSeedSequence\u001b[0m\u001b[1;33m,\u001b[0m \u001b[0mBitGenerator\u001b[0m\u001b[1;33m\n",
      "\u001b[0m\u001b[1;32mfrom\u001b[0m \u001b[1;33m.\u001b[0m\u001b[0m_mt19937\u001b[0m \u001b[1;32mimport\u001b[0m \u001b[0mMT19937\u001b[0m\u001b[1;33m\n",
      "\u001b[0m\u001b[1;32mfrom\u001b[0m \u001b[1;33m.\u001b[0m\u001b[0m_pcg64\u001b[0m \u001b[1;32mimport\u001b[0m \u001b[0mPCG64\u001b[0m\u001b[1;33m,\u001b[0m \u001b[0mPCG64DXSM\u001b[0m\u001b[1;33m\n",
      "\u001b[0m\u001b[1;32mfrom\u001b[0m \u001b[1;33m.\u001b[0m\u001b[0m_philox\u001b[0m \u001b[1;32mimport\u001b[0m \u001b[0mPhilox\u001b[0m\u001b[1;33m\n",
      "\u001b[0m\u001b[1;32mfrom\u001b[0m \u001b[1;33m.\u001b[0m\u001b[0m_sfc64\u001b[0m \u001b[1;32mimport\u001b[0m \u001b[0mSFC64\u001b[0m\u001b[1;33m\n",
      "\u001b[0m\u001b[1;32mfrom\u001b[0m \u001b[1;33m.\u001b[0m\u001b[0mmtrand\u001b[0m \u001b[1;32mimport\u001b[0m \u001b[1;33m*\u001b[0m\u001b[1;33m\n",
      "\u001b[0m\u001b[1;33m\n",
      "\u001b[0m\u001b[0m__all__\u001b[0m \u001b[1;33m+=\u001b[0m \u001b[1;33m[\u001b[0m\u001b[1;34m'Generator'\u001b[0m\u001b[1;33m,\u001b[0m \u001b[1;34m'RandomState'\u001b[0m\u001b[1;33m,\u001b[0m \u001b[1;34m'SeedSequence'\u001b[0m\u001b[1;33m,\u001b[0m \u001b[1;34m'MT19937'\u001b[0m\u001b[1;33m,\u001b[0m\u001b[1;33m\n",
      "\u001b[0m            \u001b[1;34m'Philox'\u001b[0m\u001b[1;33m,\u001b[0m \u001b[1;34m'PCG64'\u001b[0m\u001b[1;33m,\u001b[0m \u001b[1;34m'PCG64DXSM'\u001b[0m\u001b[1;33m,\u001b[0m \u001b[1;34m'SFC64'\u001b[0m\u001b[1;33m,\u001b[0m \u001b[1;34m'default_rng'\u001b[0m\u001b[1;33m,\u001b[0m\u001b[1;33m\n",
      "\u001b[0m            \u001b[1;34m'BitGenerator'\u001b[0m\u001b[1;33m]\u001b[0m\u001b[1;33m\n",
      "\u001b[0m\u001b[1;33m\n",
      "\u001b[0m\u001b[1;33m\n",
      "\u001b[0m\u001b[1;32mdef\u001b[0m \u001b[0m__RandomState_ctor\u001b[0m\u001b[1;33m(\u001b[0m\u001b[1;33m)\u001b[0m\u001b[1;33m:\u001b[0m\u001b[1;33m\n",
      "\u001b[0m    \u001b[1;34m\"\"\"Return a RandomState instance.\n",
      "\n",
      "    This function exists solely to assist (un)pickling.\n",
      "\n",
      "    Note that the state of the RandomState returned here is irrelevant, as this\n",
      "    function's entire purpose is to return a newly allocated RandomState whose\n",
      "    state pickle can set.  Consequently the RandomState returned by this function\n",
      "    is a freshly allocated copy with a seed=0.\n",
      "\n",
      "    See https://github.com/numpy/numpy/issues/4763 for a detailed discussion\n",
      "\n",
      "    \"\"\"\u001b[0m\u001b[1;33m\n",
      "\u001b[0m    \u001b[1;32mreturn\u001b[0m \u001b[0mRandomState\u001b[0m\u001b[1;33m(\u001b[0m\u001b[0mseed\u001b[0m\u001b[1;33m=\u001b[0m\u001b[1;36m0\u001b[0m\u001b[1;33m)\u001b[0m\u001b[1;33m\n",
      "\u001b[0m\u001b[1;33m\n",
      "\u001b[0m\u001b[1;33m\n",
      "\u001b[0m\u001b[1;32mfrom\u001b[0m \u001b[0mnumpy\u001b[0m\u001b[1;33m.\u001b[0m\u001b[0m_pytesttester\u001b[0m \u001b[1;32mimport\u001b[0m \u001b[0mPytestTester\u001b[0m\u001b[1;33m\n",
      "\u001b[0m\u001b[0mtest\u001b[0m \u001b[1;33m=\u001b[0m \u001b[0mPytestTester\u001b[0m\u001b[1;33m(\u001b[0m\u001b[0m__name__\u001b[0m\u001b[1;33m)\u001b[0m\u001b[1;33m\n",
      "\u001b[0m\u001b[1;32mdel\u001b[0m \u001b[0mPytestTester\u001b[0m\u001b[1;33m\u001b[0m\u001b[1;33m\u001b[0m\u001b[0m"
     ]
    }
   ],
   "source": [
    "?np.random"
   ]
  },
  {
   "cell_type": "code",
   "execution_count": 7,
   "id": "399f62e7-74d0-4d2a-9b57-d5a2c87580d8",
   "metadata": {},
   "outputs": [
    {
     "data": {
      "text/plain": [
       "[<matplotlib.lines.Line2D at 0x1769ffd5d90>]"
      ]
     },
     "execution_count": 7,
     "metadata": {},
     "output_type": "execute_result"
    },
    {
     "data": {
      "image/png": "[encoded data removed]",
      "text/plain": [
       "<Figure size 640x480 with 1 Axes>"
      ]
     },
     "metadata": {},
     "output_type": "display_data"
    }
   ],
   "source": [
    "# randn generates random numbers from standard normal which acts as the random increment of our random walk\n",
    "# then the cumsum generates a random walk\n",
    "# then we plot it\n",
    "plt.plot(np.random.randn(1000).cumsum())"
   ]
  },
  {
   "cell_type": "code",
   "execution_count": 19,
   "id": "6c3d08a2",
   "metadata": {},
   "outputs": [],
   "source": [
    "np.array()\n"
   ]
  },
  {
   "cell_type": "code",
   "execution_count": 31,
   "id": "96e568ae",
   "metadata": {},
   "outputs": [
    {
     "data": {
      "text/plain": [
       "[<matplotlib.lines.Line2D at 0x176a0facaf0>]"
      ]
     },
     "execution_count": 31,
     "metadata": {},
     "output_type": "execute_result"
    },
    {
     "data": {
      "image/png": "[encoded data removed]",
      "text/plain": [
       "<Figure size 640x480 with 1 Axes>"
      ]
     },
     "metadata": {},
     "output_type": "display_data"
    }
   ],
   "source": [
    "data = np.random.rand(1000) < 0.5\n",
    "increment = []\n",
    "for value in data:\n",
    "    if value == True:\n",
    "        increment += [1]\n",
    "    else:\n",
    "        increment += [-1]\n",
    "rw_incr = np.array(increment)\n",
    "plt.plot(rw_incr.cumsum())\n",
    "#plt.plot(np.random.randint([-1,1],1000))"
   ]
  },
  {
   "cell_type": "code",
   "execution_count": null,
   "id": "e71bbd84",
   "metadata": {
    "collapsed": false,
    "jupyter": {
     "outputs_hidden": false
    }
   },
   "outputs": [],
   "source": [
    "index = ['a', 'b', 'c', 'd', 'e']\n",
    "\n",
    "s = Series(np.arange(5), index=index)\n",
    "s.index"
   ]
  },
  {
   "cell_type": "code",
   "execution_count": null,
   "id": "14f93333",
   "metadata": {
    "collapsed": false,
    "jupyter": {
     "outputs_hidden": false
    }
   },
   "outputs": [],
   "source": [
    "dates = pd.date_range('2012-07-16', '2012-07-21')\n",
    "atemps = Series([101.5, 98, 95, 99, 100, 92], index=dates)\n",
    "atemps"
   ]
  },
  {
   "cell_type": "code",
   "execution_count": null,
   "id": "907bba1f",
   "metadata": {
    "collapsed": false,
    "jupyter": {
     "outputs_hidden": false
    }
   },
   "outputs": [],
   "source": [
    "idx = atemps.index[2]"
   ]
  },
  {
   "cell_type": "code",
   "execution_count": null,
   "id": "8d080d8d",
   "metadata": {
    "collapsed": false,
    "jupyter": {
     "outputs_hidden": false
    }
   },
   "outputs": [],
   "source": [
    "sdtemps = Series([73, 78, 77, 78, 78, 77], index=dates)\n",
    "temps = DataFrame({'Austin' : atemps, 'San Diego': sdtemps})\n",
    "temps"
   ]
  },
  {
   "cell_type": "code",
   "execution_count": null,
   "id": "803d2875",
   "metadata": {
    "collapsed": false,
    "jupyter": {
     "outputs_hidden": false
    }
   },
   "outputs": [],
   "source": [
    "temps['Diff'] = temps['Austin'] - temps['San Diego']\n",
    "temps"
   ]
  },
  {
   "cell_type": "code",
   "execution_count": null,
   "id": "d08864d1",
   "metadata": {
    "collapsed": false,
    "jupyter": {
     "outputs_hidden": false
    }
   },
   "outputs": [],
   "source": [
    "del temps['Diff']\n",
    "temps"
   ]
  },
  {
   "cell_type": "code",
   "execution_count": null,
   "id": "fde72799",
   "metadata": {
    "collapsed": false,
    "jupyter": {
     "outputs_hidden": false
    }
   },
   "outputs": [],
   "source": [
    "s[['b', 'd', 'e']]"
   ]
  },
  {
   "cell_type": "code",
   "execution_count": null,
   "id": "4e9cf461",
   "metadata": {
    "collapsed": false,
    "jupyter": {
     "outputs_hidden": false
    }
   },
   "outputs": [],
   "source": [
    "atemps = temps.Austin\n",
    "sdtemps = temps['San Diego'].drop(temps.index[3])\n",
    "atemps"
   ]
  },
  {
   "cell_type": "code",
   "execution_count": null,
   "id": "dbeda440",
   "metadata": {
    "collapsed": false,
    "jupyter": {
     "outputs_hidden": false
    }
   },
   "outputs": [],
   "source": [
    "temps - temps[:-1]"
   ]
  },
  {
   "cell_type": "code",
   "execution_count": null,
   "id": "4592d195",
   "metadata": {
    "collapsed": false,
    "jupyter": {
     "outputs_hidden": false
    }
   },
   "outputs": [],
   "source": [
    "diff = atemps - sdtemps\n",
    "diff.fillna(0)"
   ]
  },
  {
   "cell_type": "code",
   "execution_count": null,
   "id": "14a719b8",
   "metadata": {
    "collapsed": false,
    "jupyter": {
     "outputs_hidden": false
    }
   },
   "outputs": [],
   "source": [
    "temps"
   ]
  },
  {
   "cell_type": "code",
   "execution_count": null,
   "id": "095aeae7",
   "metadata": {
    "collapsed": false,
    "jupyter": {
     "outputs_hidden": false
    }
   },
   "outputs": [],
   "source": [
    "idx = temps.index[2]\n",
    "temps.ix[[1, 0, 2], ['San Diego', 'Austin']]"
   ]
  },
  {
   "cell_type": "code",
   "execution_count": null,
   "id": "93eed92f",
   "metadata": {
    "collapsed": false,
    "jupyter": {
     "outputs_hidden": false
    }
   },
   "outputs": [],
   "source": [
    "randn(5, 5).mean(1)"
   ]
  },
  {
   "cell_type": "code",
   "execution_count": null,
   "id": "958640b3",
   "metadata": {
    "collapsed": false,
    "jupyter": {
     "outputs_hidden": false
    }
   },
   "outputs": [],
   "source": [
    "temps - temps.mean()"
   ]
  },
  {
   "cell_type": "code",
   "execution_count": null,
   "id": "1627eb42",
   "metadata": {
    "collapsed": false,
    "jupyter": {
     "outputs_hidden": false
    }
   },
   "outputs": [],
   "source": [
    "temps[temps.Austin > 100]"
   ]
  },
  {
   "cell_type": "code",
   "execution_count": null,
   "id": "796812c7",
   "metadata": {
    "collapsed": false,
    "jupyter": {
     "outputs_hidden": false
    }
   },
   "outputs": [],
   "source": [
    "!cat data/test1.csv"
   ]
  },
  {
   "cell_type": "code",
   "execution_count": null,
   "id": "e4275f8e",
   "metadata": {
    "collapsed": false,
    "jupyter": {
     "outputs_hidden": false
    }
   },
   "outputs": [],
   "source": [
    "df = pd.read_csv('data/test1.csv')\n",
    "df.date[0]"
   ]
  },
  {
   "cell_type": "code",
   "execution_count": null,
   "id": "0e38b1a8",
   "metadata": {
    "collapsed": false,
    "jupyter": {
     "outputs_hidden": false
    }
   },
   "outputs": [],
   "source": [
    "df2 = pd.read_csv('data/test1.csv', parse_dates=['date'], index_col='date')\n",
    "df2"
   ]
  },
  {
   "cell_type": "code",
   "execution_count": null,
   "id": "0e9eb9db",
   "metadata": {
    "collapsed": false,
    "jupyter": {
     "outputs_hidden": false
    }
   },
   "outputs": [],
   "source": [
    "df2"
   ]
  },
  {
   "cell_type": "code",
   "execution_count": null,
   "id": "28d3eb45",
   "metadata": {
    "collapsed": false,
    "jupyter": {
     "outputs_hidden": false
    }
   },
   "outputs": [],
   "source": [
    "df2 = pd.read_csv('data/test1.csv', parse_dates=['date'])\n",
    "df3 = df2.set_index('date', drop=False)\n",
    "df3"
   ]
  },
  {
   "cell_type": "code",
   "execution_count": null,
   "id": "46483fa4",
   "metadata": {
    "collapsed": false,
    "jupyter": {
     "outputs_hidden": false
    }
   },
   "outputs": [],
   "source": [
    "pd.read_csv('data/test2.csv', parse_dates=[['time', 'date']])"
   ]
  },
  {
   "cell_type": "code",
   "execution_count": null,
   "id": "15ddb5b9",
   "metadata": {
    "collapsed": false,
    "jupyter": {
     "outputs_hidden": false
    }
   },
   "outputs": [],
   "source": [
    "pd.read_csv?"
   ]
  },
  {
   "cell_type": "code",
   "execution_count": null,
   "id": "042a6b99",
   "metadata": {
    "collapsed": false,
    "jupyter": {
     "outputs_hidden": false
    }
   },
   "outputs": [],
   "source": []
  }
 ],
 "metadata": {
  "kernelspec": {
   "display_name": "Python 3 (ipykernel)",
   "language": "python",
   "name": "python3"
  },
  "language_info": {
   "codemirror_mode": {
    "name": "ipython",
    "version": 3
   },
   "file_extension": ".py",
   "mimetype": "text/x-python",
   "name": "python",
   "nbconvert_exporter": "python",
   "pygments_lexer": "ipython3",
   "version": "3.9.16"
  }
 },
 "nbformat": 4,
 "nbformat_minor": 5
}
