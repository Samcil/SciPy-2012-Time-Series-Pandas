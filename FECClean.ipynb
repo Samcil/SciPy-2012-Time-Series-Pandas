{
 "cells": [
  {
   "cell_type": "code",
   "execution_count": 1,
   "id": "5689d455",
   "metadata": {
    "collapsed": false,
    "jupyter": {
     "outputs_hidden": false
    }
   },
   "outputs": [],
   "source": [
    "from pandas import Series, DataFrame\n",
    "import pandas as pd\n",
    "import numpy as np\n",
    "from datetime import datetime\n",
    "pd.set_printoptions(notebook_repr_html=False)\n",
    "\n",
    "from pandas import *\n",
    "\n",
    "import matplotlib as mpl\n",
    "mpl.rc('figure', figsize=(8, 5))\n",
    "set_printoptions(max_columns=18)\n",
    "months = {'JAN' : 1, 'FEB' : 2, 'MAR' : 3, 'APR' : 4, 'MAY' : 5, 'JUN' : 6,\n",
    "          'JUL' : 7, 'AUG' : 8, 'SEP' : 9, 'OCT': 10, 'NOV': 11, 'DEC' : 12}\n",
    "of_interest = ['Obama, Barack', 'Romney, Mitt', 'Santorum, Rick', \n",
    "               'Paul, Ron', 'Gingrich, Newt']\n",
    "set_printoptions(notebook_repr_html=False)\n",
    "parties = {\n",
    "  'Bachmann, Michelle': 'Republican',\n",
    "  'Romney, Mitt': 'Republican',\n",
    "  'Obama, Barack': 'Democrat',\n",
    "  \"Roemer, Charles E. 'Buddy' III\": 'Republican',\n",
    "  'Pawlenty, Timothy': 'Republican',\n",
    "  'Johnson, Gary Earl': 'Republican',\n",
    "  'Paul, Ron': 'Republican',\n",
    "  'Santorum, Rick': 'Republican',\n",
    "  'Cain, Herman': 'Republican',\n",
    "  'Gingrich, Newt': 'Republican',\n",
    "  'McCotter, Thaddeus G': 'Republican',\n",
    "  'Huntsman, Jon': 'Republican',\n",
    "  'Perry, Rick': 'Republican'           \n",
    " }\n",
    "main_cands = ['Obama, Barack', 'Romney, Mitt']\n",
    "occ_mapping = {\n",
    "   'INFORMATION REQUESTED PER BEST EFFORTS' : 'NOT PROVIDED',\n",
    "   'INFORMATION REQUESTED' : 'NOT PROVIDED',\n",
    "   'INFORMATION REQUESTED (BEST EFFORTS)' : 'NOT PROVIDED'\n",
    "}"
   ]
  },
  {
   "cell_type": "code",
   "execution_count": 2,
   "id": "11e38b02",
   "metadata": {
    "collapsed": false,
    "jupyter": {
     "outputs_hidden": false
    }
   },
   "outputs": [
    {
     "data": {
      "text/plain": [
       "<class 'pandas.core.frame.DataFrame'>\n",
       "Int64Index: 1001731 entries, 0 to 1001730\n",
       "Data columns:\n",
       "cand_nm              1001731  non-null values\n",
       "contbr_nm            1001731  non-null values\n",
       "contbr_st            1001727  non-null values\n",
       "contbr_employer      994314  non-null values\n",
       "contbr_occupation    994433  non-null values\n",
       "contb_receipt_amt    1001731  non-null values\n",
       "contb_receipt_dt     1001731  non-null values\n",
       "dtypes: float64(1), object(6)"
      ]
     },
     "execution_count": 2,
     "metadata": {},
     "output_type": "execute_result"
    }
   ],
   "source": [
    "fec = pd.load('data/fec.pickle')\n",
    "fec"
   ]
  },
  {
   "cell_type": "code",
   "execution_count": 11,
   "id": "7b19d93f",
   "metadata": {
    "collapsed": false,
    "jupyter": {
     "outputs_hidden": false
    }
   },
   "outputs": [
    {
     "data": {
      "text/plain": [
       "0    2011-06-20 00:00:00\n",
       "1    2011-06-23 00:00:00\n",
       "2    2011-07-05 00:00:00\n",
       "3    2011-08-01 00:00:00\n",
       "4    2011-06-20 00:00:00\n",
       "5    2011-06-23 00:00:00\n",
       "6    2011-06-21 00:00:00\n",
       "7    2011-07-05 00:00:00\n",
       "8    2011-06-21 00:00:00\n",
       "9    2011-06-20 00:00:00\n",
       "10   2011-06-22 00:00:00\n",
       "11   2011-06-22 00:00:00\n",
       "12   2011-06-21 00:00:00\n",
       "13   2011-06-27 00:00:00\n",
       "14   2011-07-11 00:00:00\n",
       "...\n",
       "985   2012-02-28 00:00:00\n",
       "986   2012-02-16 00:00:00\n",
       "987   2012-02-21 00:00:00\n",
       "988   2012-02-22 00:00:00\n",
       "989   2012-02-13 00:00:00\n",
       "990   2012-02-22 00:00:00\n",
       "991   2012-02-28 00:00:00\n",
       "992   2012-02-06 00:00:00\n",
       "993   2012-02-01 00:00:00\n",
       "994   2012-02-06 00:00:00\n",
       "995   2012-02-20 00:00:00\n",
       "996   2012-03-20 00:00:00\n",
       "997   2012-02-29 00:00:00\n",
       "998   2012-02-29 00:00:00\n",
       "999   2012-02-29 00:00:00\n",
       "Name: contb_receipt_dt, Length: 1000"
      ]
     },
     "execution_count": 11,
     "metadata": {},
     "output_type": "execute_result"
    }
   ],
   "source": [
    "pd.to_datetime(fec.contb_receipt_dt[:1000])"
   ]
  },
  {
   "cell_type": "code",
   "execution_count": 13,
   "id": "7c0eb5b1",
   "metadata": {
    "collapsed": false,
    "jupyter": {
     "outputs_hidden": false
    }
   },
   "outputs": [
    {
     "data": {
      "text/plain": [
       "'20-JUN-11'"
      ]
     },
     "execution_count": 13,
     "metadata": {},
     "output_type": "execute_result"
    }
   ],
   "source": [
    "fec.contb_receipt_dt[0]"
   ]
  },
  {
   "cell_type": "code",
   "execution_count": 14,
   "id": "e49b3060",
   "metadata": {
    "collapsed": false,
    "jupyter": {
     "outputs_hidden": false
    }
   },
   "outputs": [
    {
     "data": {
      "text/plain": [
       "datetime.datetime(2011, 6, 20, 0, 0)"
      ]
     },
     "execution_count": 14,
     "metadata": {},
     "output_type": "execute_result"
    }
   ],
   "source": [
    "datetime(2011, 6, 20)"
   ]
  },
  {
   "cell_type": "code",
   "execution_count": 3,
   "id": "ef50528b",
   "metadata": {
    "collapsed": false,
    "jupyter": {
     "outputs_hidden": false
    }
   },
   "outputs": [],
   "source": [
    "months = {'JAN' : 1, 'FEB' : 2, 'MAR' : 3, 'APR' : 4, 'MAY' : 5, 'JUN' : 6,\n",
    "          'JUL' : 7, 'AUG' : 8, 'SEP' : 9, 'OCT': 10, 'NOV': 11, 'DEC' : 12}\n",
    "def convert_date(datestr):\n",
    "    d, m, y = datestr.split('-')\n",
    "    m = months[m]\n",
    "    return datetime(int('20' + y), m, int(d))\n",
    "\n",
    "def convert_date2(datestr):\n",
    "    return datetime.strptime(datestr, '%d-%b-%y')\n",
    "\n",
    "fec['contb_receipt_dt'] = fec.contb_receipt_dt.map(convert_date)"
   ]
  },
  {
   "cell_type": "code",
   "execution_count": 30,
   "id": "2a194c96",
   "metadata": {
    "collapsed": false,
    "jupyter": {
     "outputs_hidden": false
    }
   },
   "outputs": [
    {
     "data": {
      "text/plain": [
       "<class 'pandas.core.frame.DataFrame'>\n",
       "Int64Index: 244 entries, 1 to 244\n",
       "Data columns:\n",
       "total_bill    244  non-null values\n",
       "tip           244  non-null values\n",
       "sex           244  non-null values\n",
       "smoker        244  non-null values\n",
       "day           244  non-null values\n",
       "time          244  non-null values\n",
       "size          244  non-null values\n",
       "tip_pct       244  non-null values\n",
       "dtypes: float64(3), int64(1), object(4)"
      ]
     },
     "execution_count": 30,
     "metadata": {},
     "output_type": "execute_result"
    }
   ],
   "source": [
    "import pandas.rpy.common as com\n",
    "tips = com.load_data('tips', 'reshape2')\n",
    "tips['tip_pct'] = tips.tip / tips.total_bill\n",
    "tips"
   ]
  },
  {
   "cell_type": "code",
   "execution_count": 36,
   "id": "d919fc9e",
   "metadata": {
    "collapsed": false,
    "jupyter": {
     "outputs_hidden": false
    }
   },
   "outputs": [
    {
     "data": {
      "text/plain": [
       "smoker        No       Yes\n",
       "sex                       \n",
       "Female  0.156921  0.182150\n",
       "Male    0.160669  0.152771"
      ]
     },
     "execution_count": 36,
     "metadata": {},
     "output_type": "execute_result"
    }
   ],
   "source": [
    "tips.pivot_table('tip_pct', rows=['sex', 'smoker'], aggfunc='mean').unstack('smoker')"
   ]
  },
  {
   "cell_type": "code",
   "execution_count": 40,
   "id": "7e031aed",
   "metadata": {
    "collapsed": false,
    "jupyter": {
     "outputs_hidden": false
    }
   },
   "outputs": [
    {
     "data": {
      "text/plain": [
       "cand_nm           Obama, Barack  Romney, Mitt\n",
       "contb_receipt_dt                             \n",
       "2012-04-26            537115.38     464335.62\n",
       "2012-04-27            745269.95     575832.12\n",
       "2012-04-28            479677.34      64896.50\n",
       "2012-04-29            349744.69      51038.00\n",
       "2012-04-30           3499159.38     734803.74"
      ]
     },
     "execution_count": 40,
     "metadata": {},
     "output_type": "execute_result"
    }
   ],
   "source": [
    "by_date = fec.pivot_table('contb_receipt_amt', \n",
    "                          rows='contb_receipt_dt',\n",
    "                          cols='cand_nm', \n",
    "                          aggfunc='sum')\n",
    "by_date = by_date[['Obama, Barack', 'Romney, Mitt']]\n",
    "by_date.tail()"
   ]
  },
  {
   "cell_type": "code",
   "execution_count": 51,
   "id": "e3e3c643",
   "metadata": {
    "collapsed": false,
    "jupyter": {
     "outputs_hidden": false
    }
   },
   "outputs": [
    {
     "data": {
      "text/plain": [
       "cand_nm\n",
       "Obama, Barack    238203.30\n",
       "Romney, Mitt     119126.52"
      ]
     },
     "execution_count": 51,
     "metadata": {},
     "output_type": "execute_result"
    }
   ],
   "source": [
    "by_date.median()"
   ]
  },
  {
   "cell_type": "code",
   "execution_count": 57,
   "id": "78f8c83e",
   "metadata": {
    "collapsed": false,
    "jupyter": {
     "outputs_hidden": false
    }
   },
   "outputs": [
    {
     "data": {
      "text/plain": [
       "cand_nm   Obama, Barack  Romney, Mitt\n",
       "Apr-2011     8220580.79    2028093.13\n",
       "May-2011     6537807.79    6748735.75\n",
       "Jun-2011    11642949.35    8251436.77\n",
       "Jul-2011     3417404.38    2178462.94\n",
       "Aug-2011     4620007.79    2273631.53\n",
       "Sep-2011    15165839.38    7432453.25\n",
       "Oct-2011     5744942.44    3526509.04\n",
       "Nov-2011     5076100.31    6814234.46\n",
       "Dec-2011    13416086.82   11118778.00\n",
       "Jan-2012     7984590.77    5055003.97\n",
       "Feb-2012    15601893.59   10135619.60\n",
       "Mar-2012    20582756.19   10812968.67\n",
       "Apr-2012    15491631.85    8843321.87"
      ]
     },
     "execution_count": 57,
     "metadata": {},
     "output_type": "execute_result"
    }
   ],
   "source": [
    "mby_date = by_date.resample('M', how='sum', kind='period')\n",
    "mby_date = mby_date.dropna()\n",
    "mby_date"
   ]
  },
  {
   "cell_type": "code",
   "execution_count": 58,
   "id": "5147dcb4",
   "metadata": {
    "collapsed": false,
    "jupyter": {
     "outputs_hidden": false
    }
   },
   "outputs": [
    {
     "data": {
      "text/plain": [
       "<matplotlib.axes.AxesSubplot at 0x10fd93490>"
      ]
     },
     "execution_count": 58,
     "metadata": {},
     "output_type": "execute_result"
    },
    {
     "data": {
      "image/png": "[encoded data removed]"
     },
     "metadata": {},
     "output_type": "display_data"
    }
   ],
   "source": [
    "mby_date.cumsum().plot()"
   ]
  },
  {
   "cell_type": "code",
   "execution_count": 61,
   "id": "50223b33",
   "metadata": {
    "collapsed": false,
    "jupyter": {
     "outputs_hidden": false
    }
   },
   "outputs": [
    {
     "data": {
      "text/plain": [
       "<matplotlib.axes.AxesSubplot at 0x1120ea610>"
      ]
     },
     "execution_count": 61,
     "metadata": {},
     "output_type": "execute_result"
    },
    {
     "data": {
      "image/png": "[encoded data removed]"
     },
     "metadata": {},
     "output_type": "display_data"
    }
   ],
   "source": [
    "data_normed = mby_date.div(mby_date.sum(1), axis=0)\n",
    "data_normed.plot(kind='barh', stacked=True)"
   ]
  },
  {
   "cell_type": "code",
   "execution_count": 54,
   "id": "fc902448",
   "metadata": {
    "collapsed": false,
    "jupyter": {
     "outputs_hidden": false
    }
   },
   "outputs": [
    {
     "data": {
      "text/plain": [
       "<matplotlib.axes.AxesSubplot at 0x10fd99b50>"
      ]
     },
     "execution_count": 54,
     "metadata": {},
     "output_type": "execute_result"
    },
    {
     "data": {
      "image/png": "[encoded data removed]"
     },
     "metadata": {},
     "output_type": "display_data"
    }
   ],
   "source": [
    "mby_date.plot(kind='bar', stacked=True)"
   ]
  },
  {
   "cell_type": "code",
   "execution_count": null,
   "id": "c5864c66",
   "metadata": {
    "collapsed": false,
    "jupyter": {
     "outputs_hidden": false
    }
   },
   "outputs": [],
   "source": [
    "mby_date"
   ]
  },
  {
   "cell_type": "code",
   "execution_count": 63,
   "id": "43fd4b02",
   "metadata": {
    "collapsed": false,
    "jupyter": {
     "outputs_hidden": false
    }
   },
   "outputs": [
    {
     "data": {
      "text/plain": [
       "count    1001731.000000\n",
       "mean         298.235150\n",
       "std         3749.666723\n",
       "min       -30800.000000\n",
       "25%           35.000000\n",
       "50%          100.000000\n",
       "75%          250.000000\n",
       "max      2014490.510000"
      ]
     },
     "execution_count": 63,
     "metadata": {},
     "output_type": "execute_result"
    }
   ],
   "source": [
    "fec.contb_receipt_amt.describe()"
   ]
  },
  {
   "cell_type": "code",
   "execution_count": 84,
   "id": "7559d75d",
   "metadata": {
    "collapsed": false,
    "jupyter": {
     "outputs_hidden": false
    }
   },
   "outputs": [],
   "source": [
    "def notimpl(self):\n",
    "    raise TypeError\n",
    "Categorical.__hash__ = notimpl"
   ]
  },
  {
   "cell_type": "code",
   "execution_count": 5,
   "id": "dde69f5b",
   "metadata": {
    "collapsed": false,
    "jupyter": {
     "outputs_hidden": false
    }
   },
   "outputs": [
    {
     "data": {
      "text/plain": [
       "Categorical: contb_receipt_amt\n",
       "array([(10, 100], (100, 1000], (100, 1000], ..., (1, 10], (10, 100],\n",
       "       (100, 1000]], dtype=object)\n",
       "Levels (5): Index([(0, 1], (1, 10], (10, 100], (100, 1000],\n",
       "                   (1000, 10000]], dtype=object)"
      ]
     },
     "execution_count": 5,
     "metadata": {},
     "output_type": "execute_result"
    }
   ],
   "source": [
    "#bins = np.array([0, 1, 10, 100, 1000, 10000, 100000, 1000000, 10000000])\n",
    "bins = np.array([0, 1, 10, 100, 1000, 10000])\n",
    "\n",
    "labels = cut(fec.contb_receipt_amt, bins)\n",
    "labels"
   ]
  },
  {
   "cell_type": "code",
   "execution_count": 85,
   "id": "7bfd9f69",
   "metadata": {
    "collapsed": false,
    "jupyter": {
     "outputs_hidden": false
    }
   },
   "outputs": [],
   "source": []
  },
  {
   "cell_type": "code",
   "execution_count": 7,
   "id": "5f651c75",
   "metadata": {
    "collapsed": false,
    "jupyter": {
     "outputs_hidden": false
    }
   },
   "outputs": [
    {
     "data": {
      "text/plain": [
       "cand_nm            Obama, Barack  Romney, Mitt\n",
       "contb_receipt_amt                             \n",
       "(0, 1]                       493            77\n",
       "(1, 10]                    40070          3681\n",
       "(10, 100]                 372280         31853\n",
       "(100, 1000]               153991         43357\n",
       "(1000, 10000]              22284         26186"
      ]
     },
     "execution_count": 7,
     "metadata": {},
     "output_type": "execute_result"
    }
   ],
   "source": [
    "fec = fec[fec.cand_nm.isin(['Obama, Barack', 'Romney, Mitt'])]\n",
    "#fec\n",
    "fec.groupby([labels, 'cand_nm']).size().unstack('cand_nm')"
   ]
  },
  {
   "cell_type": "code",
   "execution_count": 12,
   "id": "6c9690f1",
   "metadata": {
    "collapsed": false,
    "jupyter": {
     "outputs_hidden": false
    }
   },
   "outputs": [
    {
     "data": {
      "text/plain": [
       "contb_receipt_amt\n",
       "(0, 1]                  570\n",
       "(1, 10]               43751\n",
       "(10, 100]            404133\n",
       "(100, 1000]          197348\n",
       "(1000, 10000]         48470"
      ]
     },
     "execution_count": 12,
     "metadata": {},
     "output_type": "execute_result"
    }
   ],
   "source": [
    "fec.groupby(labels).size()"
   ]
  },
  {
   "cell_type": "code",
   "execution_count": 14,
   "id": "f291fdec",
   "metadata": {
    "collapsed": false,
    "jupyter": {
     "outputs_hidden": false
    }
   },
   "outputs": [
    {
     "data": {
      "text/plain": [
       "cand_nm        contb_receipt_amt\n",
       "Obama, Barack  (0, 1]                     NaN\n",
       "Romney, Mitt   (0, 1]                     NaN\n",
       "Obama, Barack  (1, 10]                 612.00\n",
       "Romney, Mitt   (1, 10]                    NaN\n",
       "Obama, Barack  (10, 100]             72908.12\n",
       "Romney, Mitt   (10, 100]                  NaN\n",
       "Obama, Barack  (100, 1000]          310275.00\n",
       "Romney, Mitt   (100, 1000]                NaN\n",
       "Obama, Barack  (1000, 10000]        264690.00\n",
       "Romney, Mitt   (1000, 10000]              NaN\n",
       "Name: 2011-04-04 00:00:00"
      ]
     },
     "execution_count": 14,
     "metadata": {},
     "output_type": "execute_result"
    }
   ],
   "source": [
    "grouped = fec.groupby([labels, 'cand_nm', 'contb_receipt_dt'])\n",
    "result = grouped.contb_receipt_amt.sum()\n",
    "result = result.unstack(['cand_nm', 'contb_receipt_amt'])\n",
    "result.ix[0]"
   ]
  },
  {
   "cell_type": "code",
   "execution_count": 11,
   "id": "db8e9e30",
   "metadata": {
    "collapsed": false,
    "jupyter": {
     "outputs_hidden": false
    }
   },
   "outputs": [
    {
     "data": {
      "text/plain": [
       "<matplotlib.axes.AxesSubplot at 0x112bf5f90>"
      ]
     },
     "execution_count": 11,
     "metadata": {},
     "output_type": "execute_result"
    },
    {
     "data": {
      "image/png": "[encoded data removed]"
     },
     "metadata": {},
     "output_type": "display_data"
    }
   ],
   "source": [
    "result.resample('M', how='sum', kind='period').plot(kind='bar')"
   ]
  },
  {
   "cell_type": "code",
   "execution_count": 18,
   "id": "f9b9496d",
   "metadata": {
    "collapsed": false,
    "jupyter": {
     "outputs_hidden": false
    }
   },
   "outputs": [
    {
     "data": {
      "text/plain": [
       "<matplotlib.axes.AxesSubplot at 0x121086e50>"
      ]
     },
     "execution_count": 18,
     "metadata": {},
     "output_type": "execute_result"
    },
    {
     "data": {
      "image/png": "[encoded data removed]"
     },
     "metadata": {},
     "output_type": "display_data"
    }
   ],
   "source": [
    "result = result.resample('M', how='sum', kind='period')\n",
    "mitt = result['Romney, Mitt']\n",
    "barack = result['Obama, Barack']\n",
    "fig, axes = plt.subplots(nrows=2, ncols=1)\n",
    "mitt.plot(kind='bar', stacked=True, ax=axes[0])\n",
    "barack.plot(kind='bar', stacked=True, ax=axes[1], legend=False)\n"
   ]
  },
  {
   "cell_type": "code",
   "execution_count": null,
   "id": "8ef313ff",
   "metadata": {
    "collapsed": false,
    "jupyter": {
     "outputs_hidden": false
    }
   },
   "outputs": [],
   "source": []
  }
 ],
 "metadata": {
  "kernelspec": {
   "display_name": "Python 3 (ipykernel)",
   "language": "python",
   "name": "python3"
  },
  "language_info": {
   "codemirror_mode": {
    "name": "ipython",
    "version": 3
   },
   "file_extension": ".py",
   "mimetype": "text/x-python",
   "name": "python",
   "nbconvert_exporter": "python",
   "pygments_lexer": "ipython3",
   "version": "3.9.16"
  }
 },
 "nbformat": 4,
 "nbformat_minor": 5
}
