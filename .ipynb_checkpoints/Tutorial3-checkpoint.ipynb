{
 "cells": [
  {
   "cell_type": "code",
   "execution_count": 1,
   "id": "2aa0470b",
   "metadata": {
    "collapsed": false,
    "jupyter": {
     "outputs_hidden": false
    }
   },
   "outputs": [],
   "source": [
    "import numpy as np\n",
    "from pandas import Series, DataFrame\n",
    "import pandas as pd\n",
    "from datetime import datetime\n",
    "#pd.set_printoptions(notebook_repr_html=False)"
   ]
  },
  {
   "cell_type": "code",
   "execution_count": 2,
   "id": "97dc34e1",
   "metadata": {
    "collapsed": false,
    "jupyter": {
     "outputs_hidden": false
    }
   },
   "outputs": [
    {
     "data": {
      "text/plain": [
       "<class 'pandas.tseries.index.DatetimeIndex'>\n",
       "[2012-07-17 00:00:00, ..., 2012-09-24 10:39:00]\n",
       "Length: 100000, Freq: T, Timezone: None"
      ]
     },
     "execution_count": 2,
     "metadata": {},
     "output_type": "execute_result"
    }
   ],
   "source": [
    "rng = pd.date_range('7/17/2012', periods=100000, freq='t')\n",
    "rng"
   ]
  },
  {
   "cell_type": "code",
   "execution_count": 3,
   "id": "7128294e",
   "metadata": {
    "collapsed": false,
    "jupyter": {
     "outputs_hidden": false
    }
   },
   "outputs": [
    {
     "data": {
      "text/plain": [
       "2012-07-17 00:00:00   -0.864137\n",
       "2012-07-17 00:01:00   -2.301806\n",
       "2012-07-17 00:02:00   -0.761974\n",
       "2012-07-17 00:03:00    0.098435\n",
       "2012-07-17 00:04:00    2.244113\n",
       "2012-07-17 00:05:00    0.693368\n",
       "2012-07-17 00:06:00   -0.428693\n",
       "2012-07-17 00:07:00   -0.267329\n",
       "2012-07-17 00:08:00    0.700534\n",
       "2012-07-17 00:09:00   -1.003167\n",
       "2012-07-17 00:10:00   -0.756230\n",
       "2012-07-17 00:11:00   -0.881172\n",
       "2012-07-17 00:12:00    1.325918\n",
       "2012-07-17 00:13:00    0.793420\n",
       "2012-07-17 00:14:00    1.298205\n",
       "...\n",
       "2012-09-24 10:25:00   -0.533028\n",
       "2012-09-24 10:26:00   -0.590473\n",
       "2012-09-24 10:27:00    0.314483\n",
       "2012-09-24 10:28:00   -0.758636\n",
       "2012-09-24 10:29:00    0.805690\n",
       "2012-09-24 10:30:00    0.853054\n",
       "2012-09-24 10:31:00    1.307851\n",
       "2012-09-24 10:32:00    1.719776\n",
       "2012-09-24 10:33:00   -0.551071\n",
       "2012-09-24 10:34:00   -0.807599\n",
       "2012-09-24 10:35:00    0.028949\n",
       "2012-09-24 10:36:00   -1.651036\n",
       "2012-09-24 10:37:00    0.273906\n",
       "2012-09-24 10:38:00   -1.447404\n",
       "2012-09-24 10:39:00   -2.417345\n",
       "Freq: T, Length: 100000"
      ]
     },
     "execution_count": 3,
     "metadata": {},
     "output_type": "execute_result"
    }
   ],
   "source": [
    "ts = Series(randn(100000), index=rng)\n",
    "ts"
   ]
  },
  {
   "cell_type": "code",
   "execution_count": 12,
   "id": "34041ac6",
   "metadata": {
    "collapsed": false,
    "jupyter": {
     "outputs_hidden": false
    }
   },
   "outputs": [],
   "source": []
  },
  {
   "cell_type": "code",
   "execution_count": 13,
   "id": "7bf5f561",
   "metadata": {
    "collapsed": false,
    "jupyter": {
     "outputs_hidden": false
    }
   },
   "outputs": [
    {
     "data": {
      "text/plain": [
       "2012-07-17 00:00:00    1.037576\n",
       "2012-07-17 00:01:00   -1.267196\n",
       "2012-07-17 00:02:00    0.444407\n",
       "2012-07-17 00:03:00   -1.000287\n",
       "2012-07-17 00:04:00   -1.003552\n",
       "2012-07-17 00:05:00   -1.458761\n",
       "2012-07-17 00:06:00   -0.071368\n",
       "2012-07-17 00:07:00    0.165594\n",
       "2012-07-17 00:08:00    1.494709\n",
       "2012-07-17 00:09:00    0.246017\n",
       "2012-07-17 00:10:00   -0.688662\n",
       "2012-07-17 00:11:00    1.380541\n",
       "2012-07-17 00:12:00   -1.212092\n",
       "2012-07-17 00:13:00    0.668767\n",
       "2012-07-17 00:14:00   -0.368161\n",
       "Freq: T"
      ]
     },
     "execution_count": 13,
     "metadata": {},
     "output_type": "execute_result"
    }
   ],
   "source": [
    "ts.reindex(ts.index[:15])"
   ]
  },
  {
   "cell_type": "code",
   "execution_count": 16,
   "id": "a2686ae7",
   "metadata": {
    "collapsed": false,
    "jupyter": {
     "outputs_hidden": false
    }
   },
   "outputs": [
    {
     "data": {
      "text/plain": [
       "2012-07-17 00:00:00    1.037576\n",
       "2012-07-17 00:01:00   -1.267196\n",
       "2012-07-17 00:02:00    0.444407\n",
       "2012-07-17 00:03:00   -1.000287\n",
       "2012-07-17 00:04:00   -1.003552\n",
       "2012-07-17 00:05:00   -1.458761\n",
       "2012-07-17 00:06:00   -0.071368\n",
       "2012-07-17 00:07:00    0.165594\n",
       "2012-07-17 00:08:00    1.494709\n",
       "2012-07-17 00:09:00    0.246017\n",
       "2012-07-17 00:10:00   -0.688662\n",
       "2012-07-17 00:11:00    1.380541\n",
       "2012-07-17 00:12:00   -1.212092\n",
       "2012-07-17 00:13:00    0.668767\n",
       "2012-07-17 00:14:00   -0.368161\n",
       "...\n",
       "2012-09-24 10:25:00    0.051996\n",
       "2012-09-24 10:26:00   -0.179507\n",
       "2012-09-24 10:27:00   -0.060336\n",
       "2012-09-24 10:28:00   -0.073202\n",
       "2012-09-24 10:29:00   -0.974912\n",
       "2012-09-24 10:30:00   -0.849771\n",
       "2012-09-24 10:31:00    2.035282\n",
       "2012-09-24 10:32:00   -0.543719\n",
       "2012-09-24 10:33:00    1.837409\n",
       "2012-09-24 10:34:00   -0.098829\n",
       "2012-09-24 10:35:00    0.247864\n",
       "2012-09-24 10:36:00    0.840081\n",
       "2012-09-24 10:37:00    1.296501\n",
       "2012-09-24 10:38:00    0.234321\n",
       "2012-09-24 10:39:00   -0.117587\n",
       "Freq: T, Length: 100000"
      ]
     },
     "execution_count": 16,
     "metadata": {},
     "output_type": "execute_result"
    }
   ],
   "source": [
    "ts"
   ]
  },
  {
   "cell_type": "code",
   "execution_count": 20,
   "id": "056a48ce",
   "metadata": {
    "collapsed": false,
    "jupyter": {
     "outputs_hidden": false
    }
   },
   "outputs": [
    {
     "data": {
      "text/plain": [
       "2012-07-17 00:00:00    1.037576\n",
       "2012-07-17 00:01:00   -1.267196\n",
       "2012-07-17 00:02:00    0.444407\n",
       "2012-07-17 00:03:00   -1.000287\n",
       "2012-07-17 00:04:00   -1.003552\n",
       "Freq: T"
      ]
     },
     "execution_count": 20,
     "metadata": {},
     "output_type": "execute_result"
    }
   ],
   "source": [
    "ts.head()"
   ]
  },
  {
   "cell_type": "code",
   "execution_count": 24,
   "id": "dd19b36c",
   "metadata": {
    "collapsed": false,
    "jupyter": {
     "outputs_hidden": false
    }
   },
   "outputs": [
    {
     "data": {
      "text/plain": [
       "<class 'pandas.tseries.index.DatetimeIndex'>\n",
       "[2012-07-17 00:00:00, ..., 2012-09-24 10:39:00]\n",
       "Length: 100000, Freq: T, Timezone: None"
      ]
     },
     "execution_count": 24,
     "metadata": {},
     "output_type": "execute_result"
    }
   ],
   "source": [
    "ts.index"
   ]
  },
  {
   "cell_type": "code",
   "execution_count": null,
   "id": "6ad5f3f3",
   "metadata": {
    "collapsed": false,
    "jupyter": {
     "outputs_hidden": false
    }
   },
   "outputs": [],
   "source": []
  },
  {
   "cell_type": "code",
   "execution_count": 30,
   "id": "c00f8402",
   "metadata": {
    "collapsed": false,
    "jupyter": {
     "outputs_hidden": false
    }
   },
   "outputs": [
    {
     "data": {
      "text/plain": [
       "2012-07-17 00:00:00    1.037576\n",
       "2012-07-17 00:01:00   -1.267196\n",
       "2012-07-17 00:02:00    0.444407\n",
       "2012-07-17 00:03:00   -1.000287\n",
       "2012-07-17 00:04:00   -1.003552\n",
       "2012-07-17 00:05:00   -1.458761\n",
       "2012-07-17 00:06:00   -0.071368\n",
       "2012-07-17 00:07:00    0.165594\n",
       "2012-07-17 00:08:00    1.494709\n",
       "2012-07-17 00:09:00    0.246017\n",
       "2012-07-17 00:10:00   -0.688662\n",
       "2012-07-17 00:11:00    1.380541\n",
       "2012-07-17 00:12:00   -1.212092\n",
       "2012-07-17 00:13:00    0.668767\n",
       "2012-07-17 00:14:00   -0.368161\n",
       "...\n",
       "2012-09-24 10:25:00    0.051996\n",
       "2012-09-24 10:26:00   -0.179507\n",
       "2012-09-24 10:27:00   -0.060336\n",
       "2012-09-24 10:28:00   -0.073202\n",
       "2012-09-24 10:29:00   -0.974912\n",
       "2012-09-24 10:30:00   -0.849771\n",
       "2012-09-24 10:31:00    2.035282\n",
       "2012-09-24 10:32:00   -0.543719\n",
       "2012-09-24 10:33:00    1.837409\n",
       "2012-09-24 10:34:00   -0.098829\n",
       "2012-09-24 10:35:00    0.247864\n",
       "2012-09-24 10:36:00    0.840081\n",
       "2012-09-24 10:37:00    1.296501\n",
       "2012-09-24 10:38:00    0.234321\n",
       "2012-09-24 10:39:00   -0.117587\n",
       "Freq: T, Length: 100000"
      ]
     },
     "execution_count": 30,
     "metadata": {},
     "output_type": "execute_result"
    }
   ],
   "source": [
    "ts"
   ]
  },
  {
   "cell_type": "code",
   "execution_count": 33,
   "id": "4ed4d6ab",
   "metadata": {
    "collapsed": false,
    "jupyter": {
     "outputs_hidden": false
    }
   },
   "outputs": [],
   "source": [
    "from datetime import timedelta"
   ]
  },
  {
   "cell_type": "code",
   "execution_count": 7,
   "id": "f0fc75dc",
   "metadata": {
    "collapsed": false,
    "jupyter": {
     "outputs_hidden": false
    }
   },
   "outputs": [
    {
     "data": {
      "text/plain": [
       "2012-07-17 00:00:00     1\n",
       "2012-07-17 00:30:00    30\n",
       "2012-07-17 01:00:00    30\n",
       "2012-07-17 01:30:00    30\n",
       "2012-07-17 02:00:00    30\n",
       "2012-07-17 02:30:00    30\n",
       "2012-07-17 03:00:00    30\n",
       "2012-07-17 03:30:00    30\n",
       "2012-07-17 04:00:00    30\n",
       "2012-07-17 04:30:00    30\n",
       "2012-07-17 05:00:00    30\n",
       "2012-07-17 05:30:00    30\n",
       "2012-07-17 06:00:00    30\n",
       "2012-07-17 06:30:00    30\n",
       "2012-07-17 07:00:00    30\n",
       "...\n",
       "2012-09-24 04:00:00    30\n",
       "2012-09-24 04:30:00    30\n",
       "2012-09-24 05:00:00    30\n",
       "2012-09-24 05:30:00    30\n",
       "2012-09-24 06:00:00    30\n",
       "2012-09-24 06:30:00    30\n",
       "2012-09-24 07:00:00    30\n",
       "2012-09-24 07:30:00    30\n",
       "2012-09-24 08:00:00    30\n",
       "2012-09-24 08:30:00    30\n",
       "2012-09-24 09:00:00    30\n",
       "2012-09-24 09:30:00    30\n",
       "2012-09-24 10:00:00    30\n",
       "2012-09-24 10:30:00    30\n",
       "2012-09-24 11:00:00     9\n",
       "Length: 3335"
      ]
     },
     "execution_count": 7,
     "metadata": {},
     "output_type": "execute_result"
    }
   ],
   "source": [
    "ts.resample('30t', how='count')"
   ]
  },
  {
   "cell_type": "code",
   "execution_count": 35,
   "id": "295848f0",
   "metadata": {
    "collapsed": false,
    "jupyter": {
     "outputs_hidden": false
    }
   },
   "outputs": [
    {
     "data": {
      "text/plain": [
       "2012-07-17 00:29:59    30\n",
       "2012-07-17 00:59:59    30\n",
       "2012-07-17 01:29:59    30\n",
       "2012-07-17 01:59:59    30\n",
       "2012-07-17 02:29:59    30\n",
       "2012-07-17 02:59:59    30\n",
       "2012-07-17 03:29:59    30\n",
       "2012-07-17 03:59:59    30\n",
       "2012-07-17 04:29:59    30\n",
       "2012-07-17 04:59:59    30\n",
       "2012-07-17 05:29:59    30\n",
       "2012-07-17 05:59:59    30\n",
       "2012-07-17 06:29:59    30\n",
       "2012-07-17 06:59:59    30\n",
       "2012-07-17 07:29:59    30\n",
       "...\n",
       "2012-09-24 03:59:59    30\n",
       "2012-09-24 04:29:59    30\n",
       "2012-09-24 04:59:59    30\n",
       "2012-09-24 05:29:59    30\n",
       "2012-09-24 05:59:59    30\n",
       "2012-09-24 06:29:59    30\n",
       "2012-09-24 06:59:59    30\n",
       "2012-09-24 07:29:59    30\n",
       "2012-09-24 07:59:59    30\n",
       "2012-09-24 08:29:59    30\n",
       "2012-09-24 08:59:59    30\n",
       "2012-09-24 09:29:59    30\n",
       "2012-09-24 09:59:59    30\n",
       "2012-09-24 10:29:59    30\n",
       "2012-09-24 10:59:59    10\n",
       "Freq: 30T, Length: 3334"
      ]
     },
     "execution_count": 35,
     "metadata": {},
     "output_type": "execute_result"
    }
   ],
   "source": [
    "resampled = ts.resample('30t', how='count',\n",
    "                        loffset=timedelta(seconds=-1),\n",
    "                        closed='left', label='right')\n",
    "resampled"
   ]
  },
  {
   "cell_type": "code",
   "execution_count": 28,
   "id": "ec61ddfc",
   "metadata": {
    "collapsed": false,
    "jupyter": {
     "outputs_hidden": false
    }
   },
   "outputs": [
    {
     "data": {
      "text/plain": [
       "array([0, 0, 0, 0, 0, 0, 0, 0, 0, 0, 0, 0, 0, 0, 0, 0, 0, 0, 0, 0, 0, 0, 0,\n",
       "       0, 0, 0, 0, 0, 0, 0, 0, 0, 0, 0, 0, 0, 0, 0, 0, 0, 0, 0, 0, 0, 0, 0,\n",
       "       0, 0, 0, 0, 0, 0, 0, 0, 0, 0, 0, 0, 0, 0, 0, 0, 0, 0, 0, 0, 0, 0, 0,\n",
       "       0], dtype=int32)"
      ]
     },
     "execution_count": 28,
     "metadata": {},
     "output_type": "execute_result"
    }
   ],
   "source": []
  },
  {
   "cell_type": "code",
   "execution_count": 15,
   "id": "cb4bb2bd",
   "metadata": {
    "collapsed": false,
    "jupyter": {
     "outputs_hidden": false
    }
   },
   "outputs": [
    {
     "data": {
      "text/plain": [
       "2012-07-17 00:00:00    1.037576\n",
       "2012-07-17 00:30:00   -0.886346\n",
       "2012-07-17 01:00:00   -0.664983\n",
       "2012-07-17 01:30:00   -0.981084\n",
       "2012-07-17 02:00:00    0.483589\n",
       "2012-07-17 02:30:00    0.174341\n",
       "2012-07-17 03:00:00   -0.596918\n",
       "2012-07-17 03:30:00   -0.994860\n",
       "2012-07-17 04:00:00   -0.994644\n",
       "2012-07-17 04:30:00    0.897541\n",
       "2012-07-17 05:00:00   -0.499161\n",
       "2012-07-17 05:30:00   -0.051808\n",
       "2012-07-17 06:00:00    0.126991\n",
       "2012-07-17 06:30:00    0.288000\n",
       "2012-07-17 07:00:00    1.179222\n",
       "...\n",
       "2012-09-24 03:30:00    1.729814\n",
       "2012-09-24 04:00:00    0.720506\n",
       "2012-09-24 04:30:00    0.487012\n",
       "2012-09-24 05:00:00   -0.878786\n",
       "2012-09-24 05:30:00   -0.278381\n",
       "2012-09-24 06:00:00    0.966046\n",
       "2012-09-24 06:30:00    1.054440\n",
       "2012-09-24 07:00:00   -0.558324\n",
       "2012-09-24 07:30:00    0.701242\n",
       "2012-09-24 08:00:00    2.535032\n",
       "2012-09-24 08:30:00   -1.125808\n",
       "2012-09-24 09:00:00    0.911483\n",
       "2012-09-24 09:30:00   -2.031843\n",
       "2012-09-24 10:00:00   -0.209994\n",
       "2012-09-24 10:30:00   -0.849771\n",
       "Freq: 30T, Length: 3334"
      ]
     },
     "execution_count": 15,
     "metadata": {},
     "output_type": "execute_result"
    }
   ],
   "source": [
    "ts[pd.date_range(ts.index[0], ts.index[-1], freq='30t')]"
   ]
  },
  {
   "cell_type": "code",
   "execution_count": 53,
   "id": "a1402541",
   "metadata": {
    "collapsed": false,
    "jupyter": {
     "outputs_hidden": false
    }
   },
   "outputs": [
    {
     "data": {
      "text/plain": [
       "<function numpy.core.fromnumeric.amax>"
      ]
     },
     "execution_count": 53,
     "metadata": {},
     "output_type": "execute_result"
    }
   ],
   "source": []
  },
  {
   "cell_type": "code",
   "execution_count": 8,
   "id": "cdebb4b8",
   "metadata": {
    "collapsed": false,
    "jupyter": {
     "outputs_hidden": false
    }
   },
   "outputs": [
    {
     "data": {
      "text/plain": [
       "                        first       max       min      last\n",
       "2012-07-17 00:00:00 -0.864137 -0.864137 -0.864137 -0.864137\n",
       "2012-07-17 00:05:00 -2.301806  2.244113 -2.301806  0.693368\n",
       "2012-07-17 00:10:00 -0.428693  0.700534 -1.003167 -0.756230\n",
       "2012-07-17 00:15:00 -0.881172  1.626639 -0.881172  1.626639\n",
       "2012-07-17 00:20:00 -1.863128  2.082645 -1.863128 -0.185249"
      ]
     },
     "execution_count": 8,
     "metadata": {},
     "output_type": "execute_result"
    }
   ],
   "source": [
    "resampled = ts.resample('5t', how=['first', 'max', 'min', 'last'])\n",
    "resampled = resampled[:5]\n",
    "resampled"
   ]
  },
  {
   "cell_type": "code",
   "execution_count": 45,
   "id": "48e51a8a",
   "metadata": {
    "collapsed": false,
    "jupyter": {
     "outputs_hidden": false
    }
   },
   "outputs": [
    {
     "name": "stdout",
     "output_type": "stream",
     "text": [
      "10 loops, best of 3: 81.8 ms per loop\n"
     ]
    }
   ],
   "source": [
    "timeit ts.resample('30t', how=lambda x: x.mean())"
   ]
  },
  {
   "cell_type": "code",
   "execution_count": 57,
   "id": "a5217f61",
   "metadata": {
    "collapsed": false,
    "jupyter": {
     "outputs_hidden": false
    }
   },
   "outputs": [
    {
     "data": {
      "text/plain": [
       "               first       max       min      last\n",
       "2012-07-31  1.037576  4.364521 -3.900340 -0.717215\n",
       "2012-08-31  1.165593  4.437022 -4.053060 -0.631381\n",
       "2012-09-30  0.081779  4.593391 -4.298049 -0.117587"
      ]
     },
     "execution_count": 57,
     "metadata": {},
     "output_type": "execute_result"
    }
   ],
   "source": [
    "resampled"
   ]
  },
  {
   "cell_type": "code",
   "execution_count": 61,
   "id": "32a81a42",
   "metadata": {
    "collapsed": false,
    "jupyter": {
     "outputs_hidden": false
    }
   },
   "outputs": [
    {
     "data": {
      "text/plain": [
       "                        first       max       min      last\n",
       "2012-07-17 00:00:00  1.037576  1.037576  1.037576  1.037576\n",
       "2012-07-17 00:05:00 -1.267196  0.444407 -1.458761 -1.458761\n",
       "2012-07-17 00:10:00 -0.071368  1.494709 -0.688662 -0.688662\n",
       "2012-07-17 00:15:00  1.380541  1.380541 -1.212092  0.712312\n",
       "2012-07-17 00:20:00  1.068663  1.068663 -2.195561  0.179100"
      ]
     },
     "execution_count": 61,
     "metadata": {},
     "output_type": "execute_result"
    }
   ],
   "source": [
    "resampled"
   ]
  },
  {
   "cell_type": "code",
   "execution_count": 75,
   "id": "b6e4524f",
   "metadata": {
    "collapsed": false,
    "jupyter": {
     "outputs_hidden": false
    }
   },
   "outputs": [],
   "source": [
    "hf = resampled.resample('t')\n",
    "\n",
    "limits = {'first': 1, 'max': 2,\n",
    "          'min': 3, 'last': 4}\n",
    "\n",
    "hf.apply(lambda x: x.fillna(limit=limits[x.name]))"
   ]
  },
  {
   "cell_type": "code",
   "execution_count": 78,
   "id": "a8594599",
   "metadata": {
    "collapsed": false,
    "jupyter": {
     "outputs_hidden": false
    }
   },
   "outputs": [
    {
     "data": {
      "text/plain": [
       "                        first       max       min      last\n",
       "2012-07-17 00:00:00  1.037576  1.037576  1.037576  1.037576\n",
       "2012-07-17 00:01:00  1.037576  1.037576  1.037576  1.037576\n",
       "2012-07-17 00:02:00  1.037576  1.037576  1.037576  1.037576\n",
       "2012-07-17 00:03:00  1.037576  1.037576  1.037576  1.037576\n",
       "2012-07-17 00:04:00  1.037576  1.037576  1.037576  1.037576\n",
       "2012-07-17 00:05:00 -1.267196  0.444407 -1.458761 -1.458761\n",
       "2012-07-17 00:06:00 -1.267196  0.444407 -1.458761 -1.458761\n",
       "2012-07-17 00:07:00 -1.267196  0.444407 -1.458761 -1.458761\n",
       "2012-07-17 00:08:00 -1.267196  0.444407 -1.458761 -1.458761\n",
       "2012-07-17 00:09:00 -1.267196  0.444407 -1.458761 -1.458761\n",
       "2012-07-17 00:10:00 -0.071368  1.494709 -0.688662 -0.688662\n",
       "2012-07-17 00:11:00 -0.071368  1.494709 -0.688662 -0.688662\n",
       "2012-07-17 00:12:00 -0.071368  1.494709 -0.688662 -0.688662\n",
       "2012-07-17 00:13:00 -0.071368  1.494709 -0.688662 -0.688662\n",
       "2012-07-17 00:14:00 -0.071368  1.494709 -0.688662 -0.688662\n",
       "2012-07-17 00:15:00  1.380541  1.380541 -1.212092  0.712312\n",
       "2012-07-17 00:16:00  1.380541  1.380541 -1.212092  0.712312\n",
       "2012-07-17 00:17:00  1.380541  1.380541 -1.212092  0.712312\n",
       "2012-07-17 00:18:00  1.380541  1.380541 -1.212092  0.712312\n",
       "2012-07-17 00:19:00  1.380541  1.380541 -1.212092  0.712312\n",
       "2012-07-17 00:20:00  1.068663  1.068663 -2.195561  0.179100"
      ]
     },
     "execution_count": 78,
     "metadata": {},
     "output_type": "execute_result"
    }
   ],
   "source": [
    "resampled.resample('t', fill_method='ffill')"
   ]
  },
  {
   "cell_type": "code",
   "execution_count": 81,
   "id": "753cbd83",
   "metadata": {
    "collapsed": false,
    "jupyter": {
     "outputs_hidden": false
    }
   },
   "outputs": [
    {
     "data": {
      "text/plain": [
       "Period('2011', 'A-JUN')"
      ]
     },
     "execution_count": 81,
     "metadata": {},
     "output_type": "execute_result"
    }
   ],
   "source": [
    "p = pd.Period('2011', freq='A-JUN')\n",
    "p"
   ]
  },
  {
   "cell_type": "code",
   "execution_count": 87,
   "id": "51ba6e77",
   "metadata": {
    "collapsed": false,
    "jupyter": {
     "outputs_hidden": false
    }
   },
   "outputs": [
    {
     "data": {
      "text/plain": [
       "Period('27-Aug-2010', 'B')"
      ]
     },
     "execution_count": 87,
     "metadata": {},
     "output_type": "execute_result"
    }
   ],
   "source": [
    "(p.asfreq('M', how='start') + 1).asfreq('B', 'end') - 2"
   ]
  },
  {
   "cell_type": "code",
   "execution_count": 93,
   "id": "802b022d",
   "metadata": {
    "collapsed": false,
    "jupyter": {
     "outputs_hidden": false
    }
   },
   "outputs": [
    {
     "data": {
      "text/plain": [
       "Jul-2012   -0.001423\n",
       "Aug-2012    0.009274\n",
       "Sep-2012   -0.005439\n",
       "Freq: M"
      ]
     },
     "execution_count": 93,
     "metadata": {},
     "output_type": "execute_result"
    }
   ],
   "source": [
    "rts = ts.resample('M', kind='period')\n",
    "rts"
   ]
  },
  {
   "cell_type": "code",
   "execution_count": 98,
   "id": "d387b66f",
   "metadata": {
    "collapsed": false,
    "jupyter": {
     "outputs_hidden": false
    }
   },
   "outputs": [
    {
     "data": {
      "text/plain": [
       "<class 'pandas.tseries.period.PeriodIndex'>\n",
       "freq: M\n",
       "[Jul-2012, ..., Sep-2012]\n",
       "length: 3"
      ]
     },
     "execution_count": 98,
     "metadata": {},
     "output_type": "execute_result"
    }
   ],
   "source": [
    "pd.period_range('2012-07', periods=3, freq='M')"
   ]
  },
  {
   "cell_type": "code",
   "execution_count": 97,
   "id": "572df8da",
   "metadata": {
    "collapsed": false,
    "jupyter": {
     "outputs_hidden": false
    }
   },
   "outputs": [
    {
     "data": {
      "text/plain": [
       "31-Jul-2012   -0.001423\n",
       "31-Aug-2012    0.009274\n",
       "28-Sep-2012   -0.005439\n",
       "Freq: B"
      ]
     },
     "execution_count": 97,
     "metadata": {},
     "output_type": "execute_result"
    }
   ],
   "source": [
    "rts.asfreq('B', how='end')"
   ]
  },
  {
   "cell_type": "code",
   "execution_count": 100,
   "id": "02670ca2",
   "metadata": {
    "collapsed": false,
    "jupyter": {
     "outputs_hidden": false
    }
   },
   "outputs": [
    {
     "data": {
      "text/plain": [
       "<class 'pandas.core.frame.DataFrame'>\n",
       "Int64Index: 203 entries, 0 to 202\n",
       "Data columns:\n",
       "year        203  non-null values\n",
       "quarter     203  non-null values\n",
       "realgdp     203  non-null values\n",
       "realcons    203  non-null values\n",
       "realinv     203  non-null values\n",
       "realgovt    203  non-null values\n",
       "realdpi     203  non-null values\n",
       "cpi         203  non-null values\n",
       "m1          203  non-null values\n",
       "tbilrate    203  non-null values\n",
       "unemp       203  non-null values\n",
       "pop         203  non-null values\n",
       "infl        203  non-null values\n",
       "realint     203  non-null values\n",
       "dtypes: float64(14)"
      ]
     },
     "execution_count": 100,
     "metadata": {},
     "output_type": "execute_result"
    }
   ],
   "source": [
    "mdata = pd.read_csv('data/macrodata.csv')\n",
    "mdata"
   ]
  },
  {
   "cell_type": "code",
   "execution_count": 106,
   "id": "95e5a1de",
   "metadata": {
    "collapsed": false,
    "jupyter": {
     "outputs_hidden": false
    }
   },
   "outputs": [
    {
     "data": {
      "text/plain": [
       "year        1959.000\n",
       "quarter        1.000\n",
       "realgdp     2710.349\n",
       "realcons    1707.400\n",
       "realinv      286.898\n",
       "realgovt     470.045\n",
       "realdpi     1886.900\n",
       "cpi           28.980\n",
       "m1           139.700\n",
       "tbilrate       2.820\n",
       "unemp          5.800\n",
       "pop          177.146\n",
       "infl           0.000\n",
       "realint        0.000"
      ]
     },
     "execution_count": 106,
     "metadata": {},
     "output_type": "execute_result"
    }
   ],
   "source": [
    "mdata.ix[0]"
   ]
  },
  {
   "cell_type": "code",
   "execution_count": 105,
   "id": "1252564a",
   "metadata": {
    "collapsed": false,
    "jupyter": {
     "outputs_hidden": false
    }
   },
   "outputs": [
    {
     "data": {
      "text/plain": [
       "<class 'pandas.tseries.period.PeriodIndex'>\n",
       "freq: Q-DEC\n",
       "[1959Q1, ..., 2009Q3]\n",
       "length: 203"
      ]
     },
     "execution_count": 105,
     "metadata": {},
     "output_type": "execute_result"
    }
   ],
   "source": [
    "index = pd.PeriodIndex(year=mdata.year, quarter=mdata.quarter,\n",
    "               freq='Q-DEC')\n",
    "index"
   ]
  },
  {
   "cell_type": "code",
   "execution_count": 110,
   "id": "38b33704",
   "metadata": {
    "collapsed": false,
    "jupyter": {
     "outputs_hidden": false
    }
   },
   "outputs": [
    {
     "data": {
      "text/plain": [
       "<class 'pandas.core.frame.DataFrame'>\n",
       "PeriodIndex: 203 entries, 1959Q1 to 2009Q3\n",
       "Data columns:\n",
       "realgdp     203  non-null values\n",
       "realcons    203  non-null values\n",
       "realinv     203  non-null values\n",
       "realgovt    203  non-null values\n",
       "realdpi     203  non-null values\n",
       "cpi         203  non-null values\n",
       "m1          203  non-null values\n",
       "tbilrate    203  non-null values\n",
       "unemp       203  non-null values\n",
       "pop         203  non-null values\n",
       "infl        203  non-null values\n",
       "realint     203  non-null values\n",
       "dtypes: float64(12)"
      ]
     },
     "execution_count": 110,
     "metadata": {},
     "output_type": "execute_result"
    }
   ],
   "source": [
    "mdata.index = index\n",
    "mdata = mdata.drop(['year', 'quarter'], axis=1)\n",
    "mdata"
   ]
  },
  {
   "cell_type": "code",
   "execution_count": 117,
   "id": "cd17dc5a",
   "metadata": {
    "collapsed": false,
    "jupyter": {
     "outputs_hidden": false
    }
   },
   "outputs": [
    {
     "data": {
      "text/plain": [
       "<matplotlib.text.Text at 0x10e9cfe10>"
      ]
     },
     "execution_count": 117,
     "metadata": {},
     "output_type": "execute_result"
    },
    {
     "data": {
      "image/png": "[encoded data removed]"
     },
     "metadata": {},
     "output_type": "display_data"
    }
   ],
   "source": [
    "ax1 = mdata.ix['2008':, 'infl'].plot(style='k')\n",
    "ax2 = mdata.ix['2008':, 'cpi'].plot(secondary_y=True, style='g')\n",
    "ax1.set_ylabel('infl')\n",
    "ax2.set_ylabel('cpi')\n"
   ]
  },
  {
   "cell_type": "markdown",
   "id": "8c8feb05",
   "metadata": {},
   "source": [
    "Time zones\n",
    "-----"
   ]
  },
  {
   "cell_type": "code",
   "execution_count": 126,
   "id": "ca81c113",
   "metadata": {
    "collapsed": false,
    "jupyter": {
     "outputs_hidden": false
    }
   },
   "outputs": [
    {
     "data": {
      "text/plain": [
       "<Timestamp: 2012-07-17 11:00:00-0500 CDT, tz=US/Central>"
      ]
     },
     "execution_count": 126,
     "metadata": {},
     "output_type": "execute_result"
    }
   ],
   "source": [
    "stamp_naive = pd.Timestamp('2012-07-17 11:00')\n",
    "stamp = pd.Timestamp('2012-07-17 11:00', tz='US/Central')\n",
    "stamp"
   ]
  },
  {
   "cell_type": "code",
   "execution_count": 133,
   "id": "ca77b111",
   "metadata": {
    "collapsed": false,
    "jupyter": {
     "outputs_hidden": false
    }
   },
   "outputs": [
    {
     "data": {
      "text/plain": [
       "1342540800000000000"
      ]
     },
     "execution_count": 133,
     "metadata": {},
     "output_type": "execute_result"
    }
   ],
   "source": [
    "stamp.value"
   ]
  },
  {
   "cell_type": "code",
   "execution_count": 135,
   "id": "79689383",
   "metadata": {
    "collapsed": false,
    "jupyter": {
     "outputs_hidden": false
    }
   },
   "outputs": [
    {
     "data": {
      "text/plain": [
       "True"
      ]
     },
     "execution_count": 135,
     "metadata": {},
     "output_type": "execute_result"
    }
   ],
   "source": [
    "stamp3 = stamp2.tz_convert('Asia/Shanghai')\n",
    "stamp3 == stamp2"
   ]
  },
  {
   "cell_type": "code",
   "execution_count": 129,
   "id": "732af72f",
   "metadata": {
    "collapsed": false,
    "jupyter": {
     "outputs_hidden": false
    }
   },
   "outputs": [],
   "source": [
    "stamp2 = stamp_naive.tz_localize('US/Central')"
   ]
  },
  {
   "cell_type": "code",
   "execution_count": 137,
   "id": "68207689",
   "metadata": {
    "collapsed": false,
    "jupyter": {
     "outputs_hidden": false
    }
   },
   "outputs": [
    {
     "data": {
      "text/plain": [
       "<class 'pandas.tseries.index.DatetimeIndex'>\n",
       "[2012-03-01 00:00:00, ..., 2012-03-20 00:00:00]\n",
       "Length: 20, Freq: D, Timezone: US/Central"
      ]
     },
     "execution_count": 137,
     "metadata": {},
     "output_type": "execute_result"
    }
   ],
   "source": [
    "rng"
   ]
  },
  {
   "cell_type": "code",
   "execution_count": 136,
   "id": "cbc5c3ed",
   "metadata": {
    "collapsed": false,
    "jupyter": {
     "outputs_hidden": false
    }
   },
   "outputs": [
    {
     "data": {
      "text/plain": [
       "2012-03-01 00:00:00-06:00     0\n",
       "2012-03-02 00:00:00-06:00     1\n",
       "2012-03-03 00:00:00-06:00     2\n",
       "2012-03-04 00:00:00-06:00     3\n",
       "2012-03-05 00:00:00-06:00     4\n",
       "2012-03-06 00:00:00-06:00     5\n",
       "2012-03-07 00:00:00-06:00     6\n",
       "2012-03-08 00:00:00-06:00     7\n",
       "2012-03-09 00:00:00-06:00     8\n",
       "2012-03-10 00:00:00-06:00     9\n",
       "2012-03-11 00:00:00-06:00    10\n",
       "2012-03-12 00:00:00-05:00    11\n",
       "2012-03-13 00:00:00-05:00    12\n",
       "2012-03-14 00:00:00-05:00    13\n",
       "2012-03-15 00:00:00-05:00    14\n",
       "2012-03-16 00:00:00-05:00    15\n",
       "2012-03-17 00:00:00-05:00    16\n",
       "2012-03-18 00:00:00-05:00    17\n",
       "2012-03-19 00:00:00-05:00    18\n",
       "2012-03-20 00:00:00-05:00    19\n",
       "Freq: D"
      ]
     },
     "execution_count": 136,
     "metadata": {},
     "output_type": "execute_result"
    }
   ],
   "source": [
    "rng = pd.date_range('2012-03-01', periods=20, tz='US/Central')\n",
    "ts = Series(range(20), index=rng)\n",
    "ts"
   ]
  },
  {
   "cell_type": "code",
   "execution_count": 141,
   "id": "b0a29009",
   "metadata": {
    "collapsed": false,
    "jupyter": {
     "outputs_hidden": false
    }
   },
   "outputs": [
    {
     "data": {
      "text/plain": [
       "2012-02-29 18:00:00-06:00     0\n",
       "2012-03-01 18:00:00-06:00     1\n",
       "2012-03-02 18:00:00-06:00     2\n",
       "2012-03-03 18:00:00-06:00     3\n",
       "2012-03-04 18:00:00-06:00     4\n",
       "2012-03-05 18:00:00-06:00     5\n",
       "2012-03-06 18:00:00-06:00     6\n",
       "2012-03-07 18:00:00-06:00     7\n",
       "2012-03-08 18:00:00-06:00     8\n",
       "2012-03-09 18:00:00-06:00     9\n",
       "2012-03-10 18:00:00-06:00    10\n",
       "2012-03-11 19:00:00-05:00    11\n",
       "2012-03-12 19:00:00-05:00    12\n",
       "2012-03-13 19:00:00-05:00    13\n",
       "2012-03-14 19:00:00-05:00    14\n",
       "2012-03-15 19:00:00-05:00    15\n",
       "2012-03-16 19:00:00-05:00    16\n",
       "2012-03-17 19:00:00-05:00    17\n",
       "2012-03-18 19:00:00-05:00    18\n",
       "2012-03-19 19:00:00-05:00    19\n",
       "Freq: D"
      ]
     },
     "execution_count": 141,
     "metadata": {},
     "output_type": "execute_result"
    }
   ],
   "source": [
    "rng = pd.date_range('2012-03-01', periods=20)\n",
    "ts = Series(range(20), index=rng)\n",
    "ts.tz_localize('utc').tz_convert('US/Central')"
   ]
  },
  {
   "cell_type": "code",
   "execution_count": 146,
   "id": "8949499d",
   "metadata": {
    "collapsed": false,
    "jupyter": {
     "outputs_hidden": false
    }
   },
   "outputs": [
    {
     "ename": "NonExistentTimeError",
     "evalue": "2012-03-11 02:00:00",
     "output_type": "error",
     "traceback": [
      "\u001b[0;31m---------------------------------------------------------------------------\u001b[0m\n\u001b[0;31mNonExistentTimeError\u001b[0m                      Traceback (most recent call last)",
      "\u001b[0;32m<ipython-input-146-983d49d3dcd4>\u001b[0m in \u001b[0;36m<module>\u001b[0;34m()\u001b[0m\n\u001b[1;32m      1\u001b[0m \u001b[0mrng\u001b[0m \u001b[0;34m=\u001b[0m \u001b[0mpd\u001b[0m\u001b[0;34m.\u001b[0m\u001b[0mdate_range\u001b[0m\u001b[0;34m(\u001b[0m\u001b[0;34m'2012-03-11'\u001b[0m\u001b[0;34m,\u001b[0m \u001b[0;34m'2012-03-11 12:00'\u001b[0m\u001b[0;34m,\u001b[0m \u001b[0mfreq\u001b[0m\u001b[0;34m=\u001b[0m\u001b[0;34m'h'\u001b[0m\u001b[0;34m)\u001b[0m\u001b[0;34m\u001b[0m\u001b[0m\n\u001b[1;32m      2\u001b[0m \u001b[0mts2\u001b[0m \u001b[0;34m=\u001b[0m \u001b[0mSeries\u001b[0m\u001b[0;34m(\u001b[0m\u001b[0mrange\u001b[0m\u001b[0;34m(\u001b[0m\u001b[0mlen\u001b[0m\u001b[0;34m(\u001b[0m\u001b[0mrng\u001b[0m\u001b[0;34m)\u001b[0m\u001b[0;34m)\u001b[0m\u001b[0;34m,\u001b[0m \u001b[0mindex\u001b[0m\u001b[0;34m=\u001b[0m\u001b[0mrng\u001b[0m\u001b[0;34m)\u001b[0m\u001b[0;34m\u001b[0m\u001b[0m\n\u001b[0;32m----> 3\u001b[0;31m \u001b[0mts2\u001b[0m\u001b[0;34m.\u001b[0m\u001b[0mtz_localize\u001b[0m\u001b[0;34m(\u001b[0m\u001b[0;34m'US/Central'\u001b[0m\u001b[0;34m)\u001b[0m\u001b[0;34m\u001b[0m\u001b[0m\n\u001b[0m",
      "\u001b[0;32m/Users/wesm/code/pandas/pandas/core/series.pyc\u001b[0m in \u001b[0;36mtz_localize\u001b[0;34m(self, tz, copy)\u001b[0m\n\u001b[1;32m   2613\u001b[0m         \u001b[0mlocalized\u001b[0m \u001b[0;34m:\u001b[0m \u001b[0mTimeSeries\u001b[0m\u001b[0;34m\u001b[0m\u001b[0m\n\u001b[1;32m   2614\u001b[0m         \"\"\"\n\u001b[0;32m-> 2615\u001b[0;31m         \u001b[0mnew_index\u001b[0m \u001b[0;34m=\u001b[0m \u001b[0mself\u001b[0m\u001b[0;34m.\u001b[0m\u001b[0mindex\u001b[0m\u001b[0;34m.\u001b[0m\u001b[0mtz_localize\u001b[0m\u001b[0;34m(\u001b[0m\u001b[0mtz\u001b[0m\u001b[0;34m)\u001b[0m\u001b[0;34m\u001b[0m\u001b[0m\n\u001b[0m\u001b[1;32m   2616\u001b[0m \u001b[0;34m\u001b[0m\u001b[0m\n\u001b[1;32m   2617\u001b[0m         \u001b[0mnew_values\u001b[0m \u001b[0;34m=\u001b[0m \u001b[0mself\u001b[0m\u001b[0;34m.\u001b[0m\u001b[0mvalues\u001b[0m\u001b[0;34m\u001b[0m\u001b[0m\n",
      "\u001b[0;32m/Users/wesm/code/pandas/pandas/tseries/index.pyc\u001b[0m in \u001b[0;36mtz_localize\u001b[0;34m(self, tz)\u001b[0m\n\u001b[1;32m   1151\u001b[0m \u001b[0;34m\u001b[0m\u001b[0m\n\u001b[1;32m   1152\u001b[0m         \u001b[0;31m# Convert to UTC\u001b[0m\u001b[0;34m\u001b[0m\u001b[0;34m\u001b[0m\u001b[0m\n\u001b[0;32m-> 1153\u001b[0;31m         \u001b[0mnew_dates\u001b[0m \u001b[0;34m=\u001b[0m \u001b[0mlib\u001b[0m\u001b[0;34m.\u001b[0m\u001b[0mtz_localize_to_utc\u001b[0m\u001b[0;34m(\u001b[0m\u001b[0mself\u001b[0m\u001b[0;34m.\u001b[0m\u001b[0masi8\u001b[0m\u001b[0;34m,\u001b[0m \u001b[0mtz\u001b[0m\u001b[0;34m)\u001b[0m\u001b[0;34m\u001b[0m\u001b[0m\n\u001b[0m\u001b[1;32m   1154\u001b[0m         \u001b[0mnew_dates\u001b[0m \u001b[0;34m=\u001b[0m \u001b[0mnew_dates\u001b[0m\u001b[0;34m.\u001b[0m\u001b[0mview\u001b[0m\u001b[0;34m(\u001b[0m\u001b[0m_NS_DTYPE\u001b[0m\u001b[0;34m)\u001b[0m\u001b[0;34m\u001b[0m\u001b[0m\n\u001b[1;32m   1155\u001b[0m \u001b[0;34m\u001b[0m\u001b[0m\n",
      "\u001b[0;32m/Users/wesm/code/pandas/pandas/lib.so\u001b[0m in \u001b[0;36mpandas.lib.tz_localize_to_utc (pandas/src/tseries.c:42335)\u001b[0;34m()\u001b[0m\n",
      "\u001b[0;31mNonExistentTimeError\u001b[0m: 2012-03-11 02:00:00"
     ]
    }
   ],
   "source": [
    "rng = pd.date_range('2012-03-11', '2012-03-11 12:00', freq='h')\n",
    "ts2 = Series(range(len(rng)), index=rng)\n",
    "ts2.tz_localize('US/Central')"
   ]
  },
  {
   "cell_type": "code",
   "execution_count": 10,
   "id": "d3075737",
   "metadata": {
    "collapsed": false,
    "jupyter": {
     "outputs_hidden": false
    }
   },
   "outputs": [
    {
     "ename": "KeyError",
     "evalue": "<Timestamp: 2012-03-10 00:00:00-0600 CST, tz=US/Central>",
     "output_type": "error",
     "traceback": [
      "\u001b[0;31m---------------------------------------------------------------------------\u001b[0m\n\u001b[0;31mKeyError\u001b[0m                                  Traceback (most recent call last)",
      "\u001b[0;32m<ipython-input-10-073216fc2f11>\u001b[0m in \u001b[0;36m<module>\u001b[0;34m()\u001b[0m\n\u001b[1;32m      1\u001b[0m \u001b[0mts3\u001b[0m \u001b[0;34m=\u001b[0m \u001b[0mts\u001b[0m\u001b[0;34m.\u001b[0m\u001b[0mtz_localize\u001b[0m\u001b[0;34m(\u001b[0m\u001b[0;34m'US/Central'\u001b[0m\u001b[0;34m)\u001b[0m\u001b[0;34m\u001b[0m\u001b[0m\n\u001b[0;32m----> 2\u001b[0;31m \u001b[0mts3\u001b[0m\u001b[0;34m[\u001b[0m\u001b[0;34m'2012-03-10 00:00:00'\u001b[0m\u001b[0;34m]\u001b[0m\u001b[0;34m\u001b[0m\u001b[0m\n\u001b[0m",
      "\u001b[0;32m/Users/wesm/code/pandas/pandas/core/series.pyc\u001b[0m in \u001b[0;36m__getitem__\u001b[0;34m(self, key)\u001b[0m\n\u001b[1;32m    429\u001b[0m     \u001b[0;32mdef\u001b[0m \u001b[0m__getitem__\u001b[0m\u001b[0;34m(\u001b[0m\u001b[0mself\u001b[0m\u001b[0;34m,\u001b[0m \u001b[0mkey\u001b[0m\u001b[0;34m)\u001b[0m\u001b[0;34m:\u001b[0m\u001b[0;34m\u001b[0m\u001b[0m\n\u001b[1;32m    430\u001b[0m         \u001b[0;32mtry\u001b[0m\u001b[0;34m:\u001b[0m\u001b[0;34m\u001b[0m\u001b[0m\n\u001b[0;32m--> 431\u001b[0;31m             \u001b[0;32mreturn\u001b[0m \u001b[0mself\u001b[0m\u001b[0;34m.\u001b[0m\u001b[0mindex\u001b[0m\u001b[0;34m.\u001b[0m\u001b[0mget_value\u001b[0m\u001b[0;34m(\u001b[0m\u001b[0mself\u001b[0m\u001b[0;34m,\u001b[0m \u001b[0mkey\u001b[0m\u001b[0;34m)\u001b[0m\u001b[0;34m\u001b[0m\u001b[0m\n\u001b[0m\u001b[1;32m    432\u001b[0m         \u001b[0;32mexcept\u001b[0m \u001b[0mInvalidIndexError\u001b[0m\u001b[0;34m:\u001b[0m\u001b[0;34m\u001b[0m\u001b[0m\n\u001b[1;32m    433\u001b[0m             \u001b[0;32mpass\u001b[0m\u001b[0;34m\u001b[0m\u001b[0m\n",
      "\u001b[0;32m/Users/wesm/code/pandas/pandas/tseries/index.pyc\u001b[0m in \u001b[0;36mget_value\u001b[0;34m(self, series, key)\u001b[0m\n\u001b[1;32m    914\u001b[0m                 \u001b[0;32mreturn\u001b[0m \u001b[0mself\u001b[0m\u001b[0;34m.\u001b[0m\u001b[0m_engine\u001b[0m\u001b[0;34m.\u001b[0m\u001b[0mget_value\u001b[0m\u001b[0;34m(\u001b[0m\u001b[0mseries\u001b[0m\u001b[0;34m,\u001b[0m \u001b[0mstamp\u001b[0m\u001b[0;34m)\u001b[0m\u001b[0;34m\u001b[0m\u001b[0m\n\u001b[1;32m    915\u001b[0m             \u001b[0;32mexcept\u001b[0m \u001b[0mKeyError\u001b[0m\u001b[0;34m:\u001b[0m\u001b[0;34m\u001b[0m\u001b[0m\n\u001b[0;32m--> 916\u001b[0;31m                 \u001b[0;32mraise\u001b[0m \u001b[0mKeyError\u001b[0m\u001b[0;34m(\u001b[0m\u001b[0mstamp\u001b[0m\u001b[0;34m)\u001b[0m\u001b[0;34m\u001b[0m\u001b[0m\n\u001b[0m\u001b[1;32m    917\u001b[0m \u001b[0;34m\u001b[0m\u001b[0m\n\u001b[1;32m    918\u001b[0m     \u001b[0;32mdef\u001b[0m \u001b[0mget_loc\u001b[0m\u001b[0;34m(\u001b[0m\u001b[0mself\u001b[0m\u001b[0;34m,\u001b[0m \u001b[0mkey\u001b[0m\u001b[0;34m)\u001b[0m\u001b[0;34m:\u001b[0m\u001b[0;34m\u001b[0m\u001b[0m\n",
      "\u001b[0;31mKeyError\u001b[0m: <Timestamp: 2012-03-10 00:00:00-0600 CST, tz=US/Central>"
     ]
    }
   ],
   "source": [
    "ts3 = ts.tz_localize('US/Central')\n",
    "ts3['2012-03-10 00:00:00']"
   ]
  },
  {
   "cell_type": "code",
   "execution_count": null,
   "id": "5e29c269",
   "metadata": {
    "collapsed": false,
    "jupyter": {
     "outputs_hidden": false
    }
   },
   "outputs": [],
   "source": []
  }
 ],
 "metadata": {
  "kernelspec": {
   "display_name": "Python 3 (ipykernel)",
   "language": "python",
   "name": "python3"
  },
  "language_info": {
   "codemirror_mode": {
    "name": "ipython",
    "version": 3
   },
   "file_extension": ".py",
   "mimetype": "text/x-python",
   "name": "python",
   "nbconvert_exporter": "python",
   "pygments_lexer": "ipython3",
   "version": "3.9.16"
  }
 },
 "nbformat": 4,
 "nbformat_minor": 5
}
