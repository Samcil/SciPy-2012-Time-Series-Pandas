{
 "cells": [
  {
   "cell_type": "code",
   "execution_count": 4,
   "id": "ed82cf22-c7e9-49f2-9f98-3028bcf0fb20",
   "metadata": {
    "collapsed": false,
    "jupyter": {
     "outputs_hidden": false
    }
   },
   "outputs": [],
   "source": [
    "import numpy as np\n",
    "import matplotlib.pyplot as plt\n",
    "from pandas import Series, DataFrame\n",
    "import pandas as pd\n",
    "#pd.set_printoptions(notebook_repr_html=False)"
   ]
  },
  {
   "cell_type": "code",
   "execution_count": 5,
   "id": "98b97772-c195-40b9-81b2-7d469c0feb42",
   "metadata": {},
   "outputs": [
    {
     "data": {
      "text/plain": [
       "\u001b[1;31mType:\u001b[0m        module\n",
       "\u001b[1;31mString form:\u001b[0m <module 'numpy.random' from 'C:\\\\Users\\\\sampe\\\\anaconda3\\\\lib\\\\site-packages\\\\numpy\\\\random\\\\__init__.py'>\n",
       "\u001b[1;31mFile:\u001b[0m        c:\\users\\sampe\\anaconda3\\lib\\site-packages\\numpy\\random\\__init__.py\n",
       "\u001b[1;31mDocstring:\u001b[0m  \n",
       "========================\n",
       "Random Number Generation\n",
       "========================\n",
       "\n",
       "Use ``default_rng()`` to create a `Generator` and call its methods.\n",
       "\n",
       "=============== =========================================================\n",
       "Generator\n",
       "--------------- ---------------------------------------------------------\n",
       "Generator       Class implementing all of the random number distributions\n",
       "default_rng     Default constructor for ``Generator``\n",
       "=============== =========================================================\n",
       "\n",
       "============================================= ===\n",
       "BitGenerator Streams that work with Generator\n",
       "--------------------------------------------- ---\n",
       "MT19937\n",
       "PCG64\n",
       "PCG64DXSM\n",
       "Philox\n",
       "SFC64\n",
       "============================================= ===\n",
       "\n",
       "============================================= ===\n",
       "Getting entropy to initialize a BitGenerator\n",
       "--------------------------------------------- ---\n",
       "SeedSequence\n",
       "============================================= ===\n",
       "\n",
       "\n",
       "Legacy\n",
       "------\n",
       "\n",
       "For backwards compatibility with previous versions of numpy before 1.17, the\n",
       "various aliases to the global `RandomState` methods are left alone and do not\n",
       "use the new `Generator` API.\n",
       "\n",
       "==================== =========================================================\n",
       "Utility functions\n",
       "-------------------- ---------------------------------------------------------\n",
       "random               Uniformly distributed floats over ``[0, 1)``\n",
       "bytes                Uniformly distributed random bytes.\n",
       "permutation          Randomly permute a sequence / generate a random sequence.\n",
       "shuffle              Randomly permute a sequence in place.\n",
       "choice               Random sample from 1-D array.\n",
       "==================== =========================================================\n",
       "\n",
       "==================== =========================================================\n",
       "Compatibility\n",
       "functions - removed\n",
       "in the new API\n",
       "-------------------- ---------------------------------------------------------\n",
       "rand                 Uniformly distributed values.\n",
       "randn                Normally distributed values.\n",
       "ranf                 Uniformly distributed floating point numbers.\n",
       "random_integers      Uniformly distributed integers in a given range.\n",
       "                     (deprecated, use ``integers(..., closed=True)`` instead)\n",
       "random_sample        Alias for `random_sample`\n",
       "randint              Uniformly distributed integers in a given range\n",
       "seed                 Seed the legacy random number generator.\n",
       "==================== =========================================================\n",
       "\n",
       "==================== =========================================================\n",
       "Univariate\n",
       "distributions\n",
       "-------------------- ---------------------------------------------------------\n",
       "beta                 Beta distribution over ``[0, 1]``.\n",
       "binomial             Binomial distribution.\n",
       "chisquare            :math:`\\chi^2` distribution.\n",
       "exponential          Exponential distribution.\n",
       "f                    F (Fisher-Snedecor) distribution.\n",
       "gamma                Gamma distribution.\n",
       "geometric            Geometric distribution.\n",
       "gumbel               Gumbel distribution.\n",
       "hypergeometric       Hypergeometric distribution.\n",
       "laplace              Laplace distribution.\n",
       "logistic             Logistic distribution.\n",
       "lognormal            Log-normal distribution.\n",
       "logseries            Logarithmic series distribution.\n",
       "negative_binomial    Negative binomial distribution.\n",
       "noncentral_chisquare Non-central chi-square distribution.\n",
       "noncentral_f         Non-central F distribution.\n",
       "normal               Normal / Gaussian distribution.\n",
       "pareto               Pareto distribution.\n",
       "poisson              Poisson distribution.\n",
       "power                Power distribution.\n",
       "rayleigh             Rayleigh distribution.\n",
       "triangular           Triangular distribution.\n",
       "uniform              Uniform distribution.\n",
       "vonmises             Von Mises circular distribution.\n",
       "wald                 Wald (inverse Gaussian) distribution.\n",
       "weibull              Weibull distribution.\n",
       "zipf                 Zipf's distribution over ranked data.\n",
       "==================== =========================================================\n",
       "\n",
       "==================== ==========================================================\n",
       "Multivariate\n",
       "distributions\n",
       "-------------------- ----------------------------------------------------------\n",
       "dirichlet            Multivariate generalization of Beta distribution.\n",
       "multinomial          Multivariate generalization of the binomial distribution.\n",
       "multivariate_normal  Multivariate generalization of the normal distribution.\n",
       "==================== ==========================================================\n",
       "\n",
       "==================== =========================================================\n",
       "Standard\n",
       "distributions\n",
       "-------------------- ---------------------------------------------------------\n",
       "standard_cauchy      Standard Cauchy-Lorentz distribution.\n",
       "standard_exponential Standard exponential distribution.\n",
       "standard_gamma       Standard Gamma distribution.\n",
       "standard_normal      Standard normal distribution.\n",
       "standard_t           Standard Student's t-distribution.\n",
       "==================== =========================================================\n",
       "\n",
       "==================== =========================================================\n",
       "Internal functions\n",
       "-------------------- ---------------------------------------------------------\n",
       "get_state            Get tuple representing internal state of generator.\n",
       "set_state            Set state of generator.\n",
       "==================== ========================================================="
      ]
     },
     "metadata": {},
     "output_type": "display_data"
    }
   ],
   "source": [
    "?np.random"
   ]
  },
  {
   "cell_type": "code",
   "execution_count": 31,
   "id": "399f62e7-74d0-4d2a-9b57-d5a2c87580d8",
   "metadata": {},
   "outputs": [
    {
     "data": {
      "text/plain": [
       "[<matplotlib.lines.Line2D at 0x2658a2ef4c0>]"
      ]
     },
     "execution_count": 31,
     "metadata": {},
     "output_type": "execute_result"
    },
    {
     "data": {
      "image/png": "[encoded data removed]",
      "text/plain": [
       "<Figure size 640x480 with 1 Axes>"
      ]
     },
     "metadata": {},
     "output_type": "display_data"
    }
   ],
   "source": [
    "# randn generates random numbers from standard normal which acts as the random increment of our random walk\n",
    "# then the cumsum generates a random walk\n",
    "# then we plot it\n",
    "plt.plot(np.random.randn(1000).cumsum())"
   ]
  },
  {
   "cell_type": "code",
   "execution_count": 32,
   "id": "e71bbd84",
   "metadata": {
    "collapsed": false,
    "jupyter": {
     "outputs_hidden": false
    }
   },
   "outputs": [
    {
     "data": {
      "text/plain": [
       "Index(['a', 'b', 'c', 'd', 'e'], dtype='object')"
      ]
     },
     "execution_count": 32,
     "metadata": {},
     "output_type": "execute_result"
    }
   ],
   "source": [
    "index = ['a', 'b', 'c', 'd', 'e']\n",
    "\n",
    "s = Series(np.arange(5), index=index)\n",
    "s.index"
   ]
  },
  {
   "cell_type": "code",
   "execution_count": 33,
   "id": "14f93333",
   "metadata": {
    "collapsed": false,
    "jupyter": {
     "outputs_hidden": false
    }
   },
   "outputs": [
    {
     "data": {
      "text/plain": [
       "2012-07-16    101.5\n",
       "2012-07-17     98.0\n",
       "2012-07-18     95.0\n",
       "2012-07-19     99.0\n",
       "2012-07-20    100.0\n",
       "2012-07-21     92.0\n",
       "Freq: D, dtype: float64"
      ]
     },
     "execution_count": 33,
     "metadata": {},
     "output_type": "execute_result"
    }
   ],
   "source": [
    "dates = pd.date_range('2012-07-16', '2012-07-21')\n",
    "atemps = Series([101.5, 98, 95, 99, 100, 92], index=dates)\n",
    "atemps"
   ]
  },
  {
   "cell_type": "code",
   "execution_count": 32,
   "id": "907bba1f",
   "metadata": {
    "collapsed": false,
    "jupyter": {
     "outputs_hidden": false
    }
   },
   "outputs": [],
   "source": [
    "idx = atemps.index[2]"
   ]
  },
  {
   "cell_type": "code",
   "execution_count": 33,
   "id": "8d080d8d",
   "metadata": {
    "collapsed": false,
    "jupyter": {
     "outputs_hidden": false
    }
   },
   "outputs": [
    {
     "data": {
      "text/plain": [
       "            Austin  San Diego\n",
       "2012-07-16   101.5         73\n",
       "2012-07-17    98.0         78\n",
       "2012-07-18    95.0         77\n",
       "2012-07-19    99.0         78\n",
       "2012-07-20   100.0         78\n",
       "2012-07-21    92.0         77"
      ]
     },
     "execution_count": 33,
     "metadata": {},
     "output_type": "execute_result"
    }
   ],
   "source": [
    "sdtemps = Series([73, 78, 77, 78, 78, 77], index=dates)\n",
    "temps = DataFrame({'Austin' : atemps, 'San Diego': sdtemps})\n",
    "temps"
   ]
  },
  {
   "cell_type": "code",
   "execution_count": 40,
   "id": "803d2875",
   "metadata": {
    "collapsed": false,
    "jupyter": {
     "outputs_hidden": false
    }
   },
   "outputs": [
    {
     "data": {
      "text/plain": [
       "            Austin  San Diego  Diff\n",
       "2012-07-16   101.5         73  28.5\n",
       "2012-07-17    98.0         78  20.0\n",
       "2012-07-18    95.0         77  18.0\n",
       "2012-07-19    99.0         78  21.0\n",
       "2012-07-20   100.0         78  22.0\n",
       "2012-07-21    92.0         77  15.0"
      ]
     },
     "execution_count": 40,
     "metadata": {},
     "output_type": "execute_result"
    }
   ],
   "source": [
    "temps['Diff'] = temps['Austin'] - temps['San Diego']\n",
    "temps"
   ]
  },
  {
   "cell_type": "code",
   "execution_count": 41,
   "id": "d08864d1",
   "metadata": {
    "collapsed": false,
    "jupyter": {
     "outputs_hidden": false
    }
   },
   "outputs": [
    {
     "data": {
      "text/plain": [
       "            Austin  San Diego\n",
       "2012-07-16   101.5         73\n",
       "2012-07-17    98.0         78\n",
       "2012-07-18    95.0         77\n",
       "2012-07-19    99.0         78\n",
       "2012-07-20   100.0         78\n",
       "2012-07-21    92.0         77"
      ]
     },
     "execution_count": 41,
     "metadata": {},
     "output_type": "execute_result"
    }
   ],
   "source": [
    "del temps['Diff']\n",
    "temps"
   ]
  },
  {
   "cell_type": "code",
   "execution_count": 47,
   "id": "fde72799",
   "metadata": {
    "collapsed": false,
    "jupyter": {
     "outputs_hidden": false
    }
   },
   "outputs": [
    {
     "data": {
      "text/plain": [
       "b    1\n",
       "d    3\n",
       "e    4"
      ]
     },
     "execution_count": 47,
     "metadata": {},
     "output_type": "execute_result"
    }
   ],
   "source": [
    "s[['b', 'd', 'e']]"
   ]
  },
  {
   "cell_type": "code",
   "execution_count": 111,
   "id": "4e9cf461",
   "metadata": {
    "collapsed": false,
    "jupyter": {
     "outputs_hidden": false
    }
   },
   "outputs": [
    {
     "data": {
      "text/plain": [
       "2012-07-16    101.5\n",
       "2012-07-17     98.0\n",
       "2012-07-18     95.0\n",
       "2012-07-19     99.0\n",
       "2012-07-20    100.0\n",
       "2012-07-21     92.0\n",
       "Freq: D, Name: Austin"
      ]
     },
     "execution_count": 111,
     "metadata": {},
     "output_type": "execute_result"
    }
   ],
   "source": [
    "atemps = temps.Austin\n",
    "sdtemps = temps['San Diego'].drop(temps.index[3])\n",
    "atemps"
   ]
  },
  {
   "cell_type": "code",
   "execution_count": 115,
   "id": "dbeda440",
   "metadata": {
    "collapsed": false,
    "jupyter": {
     "outputs_hidden": false
    }
   },
   "outputs": [
    {
     "data": {
      "text/plain": [
       "            Austin  San Diego\n",
       "2012-07-16       0          0\n",
       "2012-07-17       0          0\n",
       "2012-07-18       0          0\n",
       "2012-07-19       0          0\n",
       "2012-07-20       0          0\n",
       "2012-07-21     NaN        NaN"
      ]
     },
     "execution_count": 115,
     "metadata": {},
     "output_type": "execute_result"
    }
   ],
   "source": [
    "temps - temps[:-1]"
   ]
  },
  {
   "cell_type": "code",
   "execution_count": 118,
   "id": "4592d195",
   "metadata": {
    "collapsed": false,
    "jupyter": {
     "outputs_hidden": false
    }
   },
   "outputs": [
    {
     "data": {
      "text/plain": [
       "2012-07-16    28.5\n",
       "2012-07-17    20.0\n",
       "2012-07-18    18.0\n",
       "2012-07-19     0.0\n",
       "2012-07-20    22.0\n",
       "2012-07-21    15.0"
      ]
     },
     "execution_count": 118,
     "metadata": {},
     "output_type": "execute_result"
    }
   ],
   "source": [
    "diff = atemps - sdtemps\n",
    "diff.fillna(0)"
   ]
  },
  {
   "cell_type": "code",
   "execution_count": 51,
   "id": "14a719b8",
   "metadata": {
    "collapsed": false,
    "jupyter": {
     "outputs_hidden": false
    }
   },
   "outputs": [
    {
     "data": {
      "text/plain": [
       "            Austin  San Diego\n",
       "2012-07-16   101.5         73\n",
       "2012-07-17    98.0         78\n",
       "2012-07-18    95.0         77\n",
       "2012-07-19    99.0         78\n",
       "2012-07-20   100.0         78\n",
       "2012-07-21    92.0         77"
      ]
     },
     "execution_count": 51,
     "metadata": {},
     "output_type": "execute_result"
    }
   ],
   "source": [
    "temps"
   ]
  },
  {
   "cell_type": "code",
   "execution_count": 56,
   "id": "095aeae7",
   "metadata": {
    "collapsed": false,
    "jupyter": {
     "outputs_hidden": false
    }
   },
   "outputs": [
    {
     "data": {
      "text/plain": [
       "            San Diego  Austin\n",
       "2012-07-17         78    98.0\n",
       "2012-07-16         73   101.5\n",
       "2012-07-18         77    95.0"
      ]
     },
     "execution_count": 56,
     "metadata": {},
     "output_type": "execute_result"
    }
   ],
   "source": [
    "idx = temps.index[2]\n",
    "temps.ix[[1, 0, 2], ['San Diego', 'Austin']]"
   ]
  },
  {
   "cell_type": "code",
   "execution_count": 62,
   "id": "93eed92f",
   "metadata": {
    "collapsed": false,
    "jupyter": {
     "outputs_hidden": false
    }
   },
   "outputs": [
    {
     "data": {
      "text/plain": [
       "array([-0.38345275, -0.55147815, -0.14621328,  0.15497259, -0.07635258])"
      ]
     },
     "execution_count": 62,
     "metadata": {},
     "output_type": "execute_result"
    }
   ],
   "source": [
    "randn(5, 5).mean(1)"
   ]
  },
  {
   "cell_type": "code",
   "execution_count": 64,
   "id": "958640b3",
   "metadata": {
    "collapsed": false,
    "jupyter": {
     "outputs_hidden": false
    }
   },
   "outputs": [
    {
     "data": {
      "text/plain": [
       "              Austin  San Diego\n",
       "2012-07-16  3.916667  -3.833333\n",
       "2012-07-17  0.416667   1.166667\n",
       "2012-07-18 -2.583333   0.166667\n",
       "2012-07-19  1.416667   1.166667\n",
       "2012-07-20  2.416667   1.166667\n",
       "2012-07-21 -5.583333   0.166667"
      ]
     },
     "execution_count": 64,
     "metadata": {},
     "output_type": "execute_result"
    }
   ],
   "source": [
    "temps - temps.mean()"
   ]
  },
  {
   "cell_type": "code",
   "execution_count": 67,
   "id": "1627eb42",
   "metadata": {
    "collapsed": false,
    "jupyter": {
     "outputs_hidden": false
    }
   },
   "outputs": [
    {
     "data": {
      "text/plain": [
       "            Austin  San Diego\n",
       "2012-07-16   101.5         73"
      ]
     },
     "execution_count": 67,
     "metadata": {},
     "output_type": "execute_result"
    }
   ],
   "source": [
    "temps[temps.Austin > 100]"
   ]
  },
  {
   "cell_type": "code",
   "execution_count": 69,
   "id": "796812c7",
   "metadata": {
    "collapsed": false,
    "jupyter": {
     "outputs_hidden": false
    }
   },
   "outputs": [
    {
     "name": "stdout",
     "output_type": "stream",
     "text": [
      "date,0,1,2,3\n",
      "2000-01-01 00:00:00,1.10376250134,-1.90997889703,-0.808955536115,-2.39262906719\n",
      "2000-01-02 00:00:00,1.18891664768,0.581119740849,0.86159734949,-0.213885346486\n",
      "2000-01-03 00:00:00,-0.964200042412,0.779764393246,1.82906224532,0.322422339415\n",
      "2000-01-04 00:00:00,0.782130444001,-1.72066965573,-1.10824167327,1.23348925791\n",
      "2000-01-05 00:00:00,-1.86701699823,-0.528368292754,-2.48830894087,1.48034194215\n",
      "2000-01-06 00:00:00,2.56928022646,-0.471901478927,-0.835033249865,-0.532132652067\n",
      "2000-01-07 00:00:00,-0.39932258251,-0.676426550985,-0.0112559158931,0.223251821044\n",
      "2000-01-08 00:00:00,1.64299299394,1.01341997845,1.43566709724,-0.635861850721\n",
      "2000-01-09 00:00:00,1.14730764657,2.13799951538,0.554171306191,-0.25553826194\n",
      "2000-01-10 00:00:00,0.933765825769,1.38715526486,-0.560142729978,-0.787082814998\n"
     ]
    }
   ],
   "source": [
    "!cat data/test1.csv"
   ]
  },
  {
   "cell_type": "code",
   "execution_count": 73,
   "id": "e4275f8e",
   "metadata": {
    "collapsed": false,
    "jupyter": {
     "outputs_hidden": false
    }
   },
   "outputs": [
    {
     "data": {
      "text/plain": [
       "'2000-01-01 00:00:00'"
      ]
     },
     "execution_count": 73,
     "metadata": {},
     "output_type": "execute_result"
    }
   ],
   "source": [
    "df = pd.read_csv('data/test1.csv')\n",
    "df.date[0]"
   ]
  },
  {
   "cell_type": "code",
   "execution_count": 81,
   "id": "0e38b1a8",
   "metadata": {
    "collapsed": false,
    "jupyter": {
     "outputs_hidden": false
    }
   },
   "outputs": [
    {
     "data": {
      "text/plain": [
       "                   0         1         2         3\n",
       "date                                              \n",
       "2000-01-01  1.103763 -1.909979 -0.808956 -2.392629\n",
       "2000-01-02  1.188917  0.581120  0.861597 -0.213885\n",
       "2000-01-03 -0.964200  0.779764  1.829062  0.322422\n",
       "2000-01-04  0.782130 -1.720670 -1.108242  1.233489\n",
       "2000-01-05 -1.867017 -0.528368 -2.488309  1.480342\n",
       "2000-01-06  2.569280 -0.471901 -0.835033 -0.532133\n",
       "2000-01-07 -0.399323 -0.676427 -0.011256  0.223252\n",
       "2000-01-08  1.642993  1.013420  1.435667 -0.635862\n",
       "2000-01-09  1.147308  2.138000  0.554171 -0.255538\n",
       "2000-01-10  0.933766  1.387155 -0.560143 -0.787083"
      ]
     },
     "execution_count": 81,
     "metadata": {},
     "output_type": "execute_result"
    }
   ],
   "source": [
    "df2 = pd.read_csv('data/test1.csv', parse_dates=['date'], index_col='date')\n",
    "df2"
   ]
  },
  {
   "cell_type": "code",
   "execution_count": 85,
   "id": "0e9eb9db",
   "metadata": {
    "collapsed": false,
    "jupyter": {
     "outputs_hidden": false
    }
   },
   "outputs": [
    {
     "data": {
      "text/plain": [
       "                   0         1         2         3\n",
       "date                                              \n",
       "2000-01-01  1.103763 -1.909979 -0.808956 -2.392629\n",
       "2000-01-02  1.188917  0.581120  0.861597 -0.213885\n",
       "2000-01-03 -0.964200  0.779764  1.829062  0.322422\n",
       "2000-01-04  0.782130 -1.720670 -1.108242  1.233489\n",
       "2000-01-05 -1.867017 -0.528368 -2.488309  1.480342\n",
       "2000-01-06  2.569280 -0.471901 -0.835033 -0.532133\n",
       "2000-01-07 -0.399323 -0.676427 -0.011256  0.223252\n",
       "2000-01-08  1.642993  1.013420  1.435667 -0.635862\n",
       "2000-01-09  1.147308  2.138000  0.554171 -0.255538\n",
       "2000-01-10  0.933766  1.387155 -0.560143 -0.787083"
      ]
     },
     "execution_count": 85,
     "metadata": {},
     "output_type": "execute_result"
    }
   ],
   "source": [
    "df2"
   ]
  },
  {
   "cell_type": "code",
   "execution_count": 92,
   "id": "28d3eb45",
   "metadata": {
    "collapsed": false,
    "jupyter": {
     "outputs_hidden": false
    }
   },
   "outputs": [
    {
     "data": {
      "text/plain": [
       "date\n",
       "2000-01-01    2000-01-01 00:00:00\n",
       "2000-01-02    2000-01-02 00:00:00\n",
       "2000-01-03    2000-01-03 00:00:00\n",
       "2000-01-04    2000-01-04 00:00:00\n",
       "2000-01-05    2000-01-05 00:00:00\n",
       "2000-01-06    2000-01-06 00:00:00\n",
       "2000-01-07    2000-01-07 00:00:00\n",
       "2000-01-08    2000-01-08 00:00:00\n",
       "2000-01-09    2000-01-09 00:00:00\n",
       "2000-01-10    2000-01-10 00:00:00\n",
       "Name: date"
      ]
     },
     "execution_count": 92,
     "metadata": {},
     "output_type": "execute_result"
    }
   ],
   "source": [
    "df2 = pd.read_csv('data/test1.csv', parse_dates=['date'])\n",
    "df3 = df2.set_index('date', drop=False)\n",
    "df3"
   ]
  },
  {
   "cell_type": "code",
   "execution_count": 102,
   "id": "46483fa4",
   "metadata": {
    "collapsed": false,
    "jupyter": {
     "outputs_hidden": false
    }
   },
   "outputs": [
    {
     "data": {
      "text/plain": [
       "             time_date         0         1         2         3\n",
       "0  2000-01-01 00:00:00  1.103763 -1.909979 -0.808956 -2.392629\n",
       "1  2000-01-02 00:00:00  1.188917  0.581120  0.861597 -0.213885\n",
       "2  2000-01-03 00:00:00 -0.964200  0.779764  1.829062  0.322422\n",
       "3  2000-01-04 00:00:00  0.782130 -1.720670 -1.108242  1.233489\n",
       "4  2000-01-05 00:00:00 -1.867017 -0.528368 -2.488309  1.480342\n",
       "5  2000-01-06 00:00:00  2.569280 -0.471901 -0.835033 -0.532133\n",
       "6  2000-01-07 00:00:00 -0.399323 -0.676427 -0.011256  0.223252\n",
       "7  2000-01-08 00:00:00  1.642993  1.013420  1.435667 -0.635862\n",
       "8  2000-01-09 00:00:00  1.147308  2.138000  0.554171 -0.255538\n",
       "9  2000-01-10 00:00:00  0.933766  1.387155 -0.560143 -0.787083"
      ]
     },
     "execution_count": 102,
     "metadata": {},
     "output_type": "execute_result"
    }
   ],
   "source": [
    "pd.read_csv('data/test2.csv', parse_dates=[['time', 'date']])"
   ]
  },
  {
   "cell_type": "code",
   "execution_count": 103,
   "id": "15ddb5b9",
   "metadata": {
    "collapsed": false,
    "jupyter": {
     "outputs_hidden": false
    }
   },
   "outputs": [],
   "source": [
    "pd.read_csv?"
   ]
  },
  {
   "cell_type": "code",
   "execution_count": null,
   "id": "042a6b99",
   "metadata": {
    "collapsed": false,
    "jupyter": {
     "outputs_hidden": false
    }
   },
   "outputs": [],
   "source": []
  }
 ],
 "metadata": {
  "kernelspec": {
   "display_name": "Python 3 (ipykernel)",
   "language": "python",
   "name": "python3"
  },
  "language_info": {
   "codemirror_mode": {
    "name": "ipython",
    "version": 3
   },
   "file_extension": ".py",
   "mimetype": "text/x-python",
   "name": "python",
   "nbconvert_exporter": "python",
   "pygments_lexer": "ipython3",
   "version": "3.9.16"
  }
 },
 "nbformat": 4,
 "nbformat_minor": 5
}
